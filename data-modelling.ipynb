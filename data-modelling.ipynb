{
 "cells": [
  {
   "cell_type": "code",
   "execution_count": 11,
   "id": "567e8e4b",
   "metadata": {
    "_cell_guid": "b1076dfc-b9ad-4769-8c92-a6c4dae69d19",
    "_uuid": "8f2839f25d086af736a60e9eeb907d3b93b6e0e5",
    "execution": {
     "iopub.execute_input": "2025-07-29T17:46:38.646545Z",
     "iopub.status.busy": "2025-07-29T17:46:38.646207Z",
     "iopub.status.idle": "2025-07-29T17:46:40.452380Z",
     "shell.execute_reply": "2025-07-29T17:46:40.451380Z"
    },
    "papermill": {
     "duration": 1.822106,
     "end_time": "2025-07-29T17:46:40.453834",
     "exception": false,
     "start_time": "2025-07-29T17:46:38.631728",
     "status": "completed"
    },
    "tags": []
   },
   "outputs": [],
   "source": [
    "\n",
    "import numpy as np # linear algebra\n",
    "import pandas as pd # data processing, CSV file I/O (e.g. pd.read_csv)\n"
   ]
  },
  {
   "cell_type": "code",
   "execution_count": 12,
   "id": "5b0b1ed3",
   "metadata": {
    "execution": {
     "iopub.execute_input": "2025-07-29T17:46:40.480758Z",
     "iopub.status.busy": "2025-07-29T17:46:40.480306Z",
     "iopub.status.idle": "2025-07-29T17:46:40.806098Z",
     "shell.execute_reply": "2025-07-29T17:46:40.805378Z"
    },
    "papermill": {
     "duration": 0.340395,
     "end_time": "2025-07-29T17:46:40.807778",
     "exception": false,
     "start_time": "2025-07-29T17:46:40.467383",
     "status": "completed"
    },
    "tags": []
   },
   "outputs": [],
   "source": [
    "darjelling = pd.read_csv('outer_data/data_Darjelling.csv')\n",
    "goa = pd.read_csv('outer_data/data_Goa.csv')\n",
    "gokarna = pd.read_csv('outer_data/data_Gokarna.csv')\n",
    "manali = pd.read_csv('outer_data/data_Manali.csv')\n",
    "munnar = pd.read_csv('outer_data/data_Munnar.csv')\n",
    "ooty = pd.read_csv('outer_data/data_Ooty.csv')\n",
    "pondi = pd.read_csv('outer_data/data_Pondicherry.csv')\n",
    "shimla = pd.read_csv('outer_data/data_Shimla.csv')\n",
    "banglore = pd.read_csv('outer_data/data_Banglore.csv')\n",
    "mumbai = pd.read_csv('outer_data/data_Mumbai.csv')\n",
    "hyderabad = pd.read_csv('outer_data/data_Hyderabad.csv')\n",
    "delhi = pd.read_csv('outer_data/data_Delhi.csv')"
   ]
  },
  {
   "cell_type": "code",
   "execution_count": 13,
   "id": "2be17efe",
   "metadata": {
    "execution": {
     "iopub.execute_input": "2025-07-29T17:46:40.833310Z",
     "iopub.status.busy": "2025-07-29T17:46:40.833000Z",
     "iopub.status.idle": "2025-07-29T17:46:41.081993Z",
     "shell.execute_reply": "2025-07-29T17:46:41.080945Z"
    },
    "papermill": {
     "duration": 0.263567,
     "end_time": "2025-07-29T17:46:41.083608",
     "exception": false,
     "start_time": "2025-07-29T17:46:40.820041",
     "status": "completed"
    },
    "tags": []
   },
   "outputs": [],
   "source": [
    "darjelling1 = pd.read_csv('per_hotel_scrap/Darjelling.csv')\n",
    "goa1 = pd.read_csv('per_hotel_scrap/Goa.csv')\n",
    "gokarna1 = pd.read_csv('per_hotel_scrap/Gokarna.csv')\n",
    "manali1 = pd.read_csv('per_hotel_scrap/Manali.csv')\n",
    "munnar1 = pd.read_csv('per_hotel_scrap/Munnar.csv')\n",
    "ooty1 = pd.read_csv('per_hotel_scrap/Ooty.csv')\n",
    "pondi1 = pd.read_csv('per_hotel_scrap/Pondicherry.csv')\n",
    "shimla1 = pd.read_csv('per_hotel_scrap/Shimla.csv')\n",
    "banglore1 = pd.read_csv('per_hotel_scrap/Banglore.csv')\n",
    "mumbai1 = pd.read_csv('per_hotel_scrap/Mumbai.csv')\n",
    "hyderabad1 = pd.read_csv('per_hotel_scrap/Hyderabad.csv')\n",
    "delhi1 = pd.read_csv('per_hotel_scrap/Delhi.csv')"
   ]
  },
  {
   "cell_type": "code",
   "execution_count": 14,
   "id": "bf94f771",
   "metadata": {
    "execution": {
     "iopub.execute_input": "2025-07-29T17:46:41.112666Z",
     "iopub.status.busy": "2025-07-29T17:46:41.111834Z",
     "iopub.status.idle": "2025-07-29T17:46:41.119798Z",
     "shell.execute_reply": "2025-07-29T17:46:41.119161Z"
    },
    "papermill": {
     "duration": 0.022942,
     "end_time": "2025-07-29T17:46:41.121113",
     "exception": false,
     "start_time": "2025-07-29T17:46:41.098171",
     "status": "completed"
    },
    "tags": []
   },
   "outputs": [],
   "source": [
    "hotels_outer = pd.concat([darjelling, goa, gokarna, manali, munnar, ooty, pondi, shimla, banglore, mumbai, hyderabad, delhi])"
   ]
  },
  {
   "cell_type": "code",
   "execution_count": 15,
   "id": "c0578415",
   "metadata": {
    "execution": {
     "iopub.execute_input": "2025-07-29T17:46:41.146394Z",
     "iopub.status.busy": "2025-07-29T17:46:41.146098Z",
     "iopub.status.idle": "2025-07-29T17:46:41.152347Z",
     "shell.execute_reply": "2025-07-29T17:46:41.151668Z"
    },
    "papermill": {
     "duration": 0.02047,
     "end_time": "2025-07-29T17:46:41.153747",
     "exception": false,
     "start_time": "2025-07-29T17:46:41.133277",
     "status": "completed"
    },
    "tags": []
   },
   "outputs": [],
   "source": [
    "hotels_inner = pd.concat([darjelling1, goa1, gokarna1, manali1, munnar1, ooty1, pondi1, shimla1, banglore1, mumbai1, hyderabad1, delhi1])"
   ]
  },
  {
   "cell_type": "code",
   "execution_count": 16,
   "id": "cf5c6d44",
   "metadata": {
    "execution": {
     "iopub.execute_input": "2025-07-29T17:46:41.179094Z",
     "iopub.status.busy": "2025-07-29T17:46:41.178772Z",
     "iopub.status.idle": "2025-07-29T17:46:41.210150Z",
     "shell.execute_reply": "2025-07-29T17:46:41.209364Z"
    },
    "papermill": {
     "duration": 0.045815,
     "end_time": "2025-07-29T17:46:41.211675",
     "exception": false,
     "start_time": "2025-07-29T17:46:41.165860",
     "status": "completed"
    },
    "tags": []
   },
   "outputs": [],
   "source": [
    "hotels = pd.merge(hotels_outer, hotels_inner, on=\"url\", how=\"inner\")"
   ]
  },
  {
   "cell_type": "code",
   "execution_count": 17,
   "id": "1d81d0ed",
   "metadata": {
    "execution": {
     "iopub.execute_input": "2025-07-29T17:46:41.237096Z",
     "iopub.status.busy": "2025-07-29T17:46:41.236783Z",
     "iopub.status.idle": "2025-07-29T17:46:41.243373Z",
     "shell.execute_reply": "2025-07-29T17:46:41.242622Z"
    },
    "papermill": {
     "duration": 0.020789,
     "end_time": "2025-07-29T17:46:41.244708",
     "exception": false,
     "start_time": "2025-07-29T17:46:41.223919",
     "status": "completed"
    },
    "tags": []
   },
   "outputs": [],
   "source": [
    "hotels = hotels.drop('url', axis=1)"
   ]
  },
  {
   "cell_type": "code",
   "execution_count": 18,
   "id": "ca5fe9e5",
   "metadata": {
    "execution": {
     "iopub.execute_input": "2025-07-29T17:46:41.330824Z",
     "iopub.status.busy": "2025-07-29T17:46:41.330526Z",
     "iopub.status.idle": "2025-07-29T17:46:41.355982Z",
     "shell.execute_reply": "2025-07-29T17:46:41.355187Z"
    },
    "papermill": {
     "duration": 0.10056,
     "end_time": "2025-07-29T17:46:41.357505",
     "exception": false,
     "start_time": "2025-07-29T17:46:41.256945",
     "status": "completed"
    },
    "tags": []
   },
   "outputs": [
    {
     "data": {
      "text/html": [
       "<div>\n",
       "<style scoped>\n",
       "    .dataframe tbody tr th:only-of-type {\n",
       "        vertical-align: middle;\n",
       "    }\n",
       "\n",
       "    .dataframe tbody tr th {\n",
       "        vertical-align: top;\n",
       "    }\n",
       "\n",
       "    .dataframe thead th {\n",
       "        text-align: right;\n",
       "    }\n",
       "</style>\n",
       "<table border=\"1\" class=\"dataframe\">\n",
       "  <thead>\n",
       "    <tr style=\"text-align: right;\">\n",
       "      <th></th>\n",
       "      <th>name</th>\n",
       "      <th>room_type</th>\n",
       "      <th>cancel_type</th>\n",
       "      <th>paymentType</th>\n",
       "      <th>bed_type</th>\n",
       "      <th>price</th>\n",
       "      <th>review</th>\n",
       "      <th>review_count</th>\n",
       "      <th>distance</th>\n",
       "      <th>address</th>\n",
       "      <th>checkin</th>\n",
       "      <th>checkout</th>\n",
       "      <th>city</th>\n",
       "      <th>review_score</th>\n",
       "      <th>facility</th>\n",
       "      <th>checkIn_time</th>\n",
       "      <th>checkOut_time</th>\n",
       "    </tr>\n",
       "  </thead>\n",
       "  <tbody>\n",
       "    <tr>\n",
       "      <th>0</th>\n",
       "      <td>Hotel KASTURI PALACE &amp; RESTAURANT DARJEELING</td>\n",
       "      <td>Deluxe Double Room</td>\n",
       "      <td>Free cancellation</td>\n",
       "      <td>No prepayment needed</td>\n",
       "      <td>1 double bed</td>\n",
       "      <td>₹ 9,000</td>\n",
       "      <td>7.8</td>\n",
       "      <td>12</td>\n",
       "      <td>0.8 km from centre</td>\n",
       "      <td>Darjeeling</td>\n",
       "      <td>2025-07-01</td>\n",
       "      <td>2025-07-07</td>\n",
       "      <td>Darjelling</td>\n",
       "      <td>{\"Staff\": \"7.7\", \"Facilities\": \"7.7\", \"Cleanli...</td>\n",
       "      <td>[\"Free WiFi\", \"Free parking\", \"Breakfast\"]</td>\n",
       "      <td>05:00</td>\n",
       "      <td>NaN</td>\n",
       "    </tr>\n",
       "    <tr>\n",
       "      <th>1</th>\n",
       "      <td>Pahari Soul</td>\n",
       "      <td>Double Room</td>\n",
       "      <td>Free cancellation</td>\n",
       "      <td>NaN</td>\n",
       "      <td>1 double bed</td>\n",
       "      <td>₹ 7,020</td>\n",
       "      <td>7.6</td>\n",
       "      <td>385</td>\n",
       "      <td>1.7 km from centre</td>\n",
       "      <td>Darjeeling</td>\n",
       "      <td>2025-07-01</td>\n",
       "      <td>2025-07-07</td>\n",
       "      <td>Darjelling</td>\n",
       "      <td>{\"Staff\": \"8.4\", \"Facilities\": \"7.7\", \"Cleanli...</td>\n",
       "      <td>[\"Free WiFi\", \"Private parking\", \"Room service...</td>\n",
       "      <td>12:00</td>\n",
       "      <td>11:00</td>\n",
       "    </tr>\n",
       "    <tr>\n",
       "      <th>2</th>\n",
       "      <td>Haven Eleven Homestay</td>\n",
       "      <td>Family Double Room</td>\n",
       "      <td>NaN</td>\n",
       "      <td>NaN</td>\n",
       "      <td>2 beds (1 double, 1 extra-large double)</td>\n",
       "      <td>₹ 19,794</td>\n",
       "      <td>9.2</td>\n",
       "      <td>14</td>\n",
       "      <td>0.9 km from centre</td>\n",
       "      <td>Darjeeling</td>\n",
       "      <td>2025-07-01</td>\n",
       "      <td>2025-07-07</td>\n",
       "      <td>Darjelling</td>\n",
       "      <td>{\"Staff\": \"10\", \"Facilities\": \"9.5\", \"Cleanlin...</td>\n",
       "      <td>[\"Free WiFi\", \"Free parking\", \"Room service\", ...</td>\n",
       "      <td>14:00</td>\n",
       "      <td>NaN</td>\n",
       "    </tr>\n",
       "    <tr>\n",
       "      <th>3</th>\n",
       "      <td>Pineridge Hotel at Mall Road</td>\n",
       "      <td>Deluxe King Room</td>\n",
       "      <td>Free cancellation</td>\n",
       "      <td>NaN</td>\n",
       "      <td>1 extra-large double bed</td>\n",
       "      <td>₹ 13,800</td>\n",
       "      <td>5.4</td>\n",
       "      <td>58</td>\n",
       "      <td>0.9 km from centre</td>\n",
       "      <td>Darjeeling</td>\n",
       "      <td>2025-07-01</td>\n",
       "      <td>2025-07-07</td>\n",
       "      <td>Darjelling</td>\n",
       "      <td>{\"Staff\": \"6.5\", \"Facilities\": \"5.4\", \"Cleanli...</td>\n",
       "      <td>[\"Free WiFi\", \"Room service\", \"Non-smoking roo...</td>\n",
       "      <td>11:00</td>\n",
       "      <td>NaN</td>\n",
       "    </tr>\n",
       "    <tr>\n",
       "      <th>4</th>\n",
       "      <td>Hotel Broadway Annecy Darjeeling - Near Mall R...</td>\n",
       "      <td>Deluxe Double Room</td>\n",
       "      <td>Free cancellation</td>\n",
       "      <td>No prepayment needed</td>\n",
       "      <td>1 extra-large double bed</td>\n",
       "      <td>₹ 13,194</td>\n",
       "      <td>7.4</td>\n",
       "      <td>15</td>\n",
       "      <td>400 m from centre</td>\n",
       "      <td>Darjeeling</td>\n",
       "      <td>2025-07-01</td>\n",
       "      <td>2025-07-07</td>\n",
       "      <td>Darjelling</td>\n",
       "      <td>{\"Location\": \"8.1\", \"Cleanliness\": \"8.0\", \"Val...</td>\n",
       "      <td>[]</td>\n",
       "      <td>NaN</td>\n",
       "      <td>NaN</td>\n",
       "    </tr>\n",
       "  </tbody>\n",
       "</table>\n",
       "</div>"
      ],
      "text/plain": [
       "                                                name           room_type  \\\n",
       "0       Hotel KASTURI PALACE & RESTAURANT DARJEELING  Deluxe Double Room   \n",
       "1                                        Pahari Soul         Double Room   \n",
       "2                              Haven Eleven Homestay  Family Double Room   \n",
       "3                       Pineridge Hotel at Mall Road    Deluxe King Room   \n",
       "4  Hotel Broadway Annecy Darjeeling - Near Mall R...  Deluxe Double Room   \n",
       "\n",
       "         cancel_type           paymentType  \\\n",
       "0  Free cancellation  No prepayment needed   \n",
       "1  Free cancellation                   NaN   \n",
       "2                NaN                   NaN   \n",
       "3  Free cancellation                   NaN   \n",
       "4  Free cancellation  No prepayment needed   \n",
       "\n",
       "                                  bed_type     price  review  review_count  \\\n",
       "0                             1 double bed   ₹ 9,000     7.8            12   \n",
       "1                             1 double bed   ₹ 7,020     7.6           385   \n",
       "2  2 beds (1 double, 1 extra-large double)  ₹ 19,794     9.2            14   \n",
       "3                 1 extra-large double bed  ₹ 13,800     5.4            58   \n",
       "4                 1 extra-large double bed  ₹ 13,194     7.4            15   \n",
       "\n",
       "             distance     address     checkin    checkout        city  \\\n",
       "0  0.8 km from centre  Darjeeling  2025-07-01  2025-07-07  Darjelling   \n",
       "1  1.7 km from centre  Darjeeling  2025-07-01  2025-07-07  Darjelling   \n",
       "2  0.9 km from centre  Darjeeling  2025-07-01  2025-07-07  Darjelling   \n",
       "3  0.9 km from centre  Darjeeling  2025-07-01  2025-07-07  Darjelling   \n",
       "4   400 m from centre  Darjeeling  2025-07-01  2025-07-07  Darjelling   \n",
       "\n",
       "                                        review_score  \\\n",
       "0  {\"Staff\": \"7.7\", \"Facilities\": \"7.7\", \"Cleanli...   \n",
       "1  {\"Staff\": \"8.4\", \"Facilities\": \"7.7\", \"Cleanli...   \n",
       "2  {\"Staff\": \"10\", \"Facilities\": \"9.5\", \"Cleanlin...   \n",
       "3  {\"Staff\": \"6.5\", \"Facilities\": \"5.4\", \"Cleanli...   \n",
       "4  {\"Location\": \"8.1\", \"Cleanliness\": \"8.0\", \"Val...   \n",
       "\n",
       "                                            facility checkIn_time  \\\n",
       "0         [\"Free WiFi\", \"Free parking\", \"Breakfast\"]        05:00   \n",
       "1  [\"Free WiFi\", \"Private parking\", \"Room service...        12:00   \n",
       "2  [\"Free WiFi\", \"Free parking\", \"Room service\", ...        14:00   \n",
       "3  [\"Free WiFi\", \"Room service\", \"Non-smoking roo...        11:00   \n",
       "4                                                 []          NaN   \n",
       "\n",
       "  checkOut_time  \n",
       "0           NaN  \n",
       "1         11:00  \n",
       "2           NaN  \n",
       "3           NaN  \n",
       "4           NaN  "
      ]
     },
     "execution_count": 18,
     "metadata": {},
     "output_type": "execute_result"
    }
   ],
   "source": [
    "hotels.head()"
   ]
  },
  {
   "cell_type": "code",
   "execution_count": 19,
   "id": "b630ea16",
   "metadata": {
    "execution": {
     "iopub.execute_input": "2025-07-29T17:46:41.384196Z",
     "iopub.status.busy": "2025-07-29T17:46:41.383290Z",
     "iopub.status.idle": "2025-07-29T17:46:41.407258Z",
     "shell.execute_reply": "2025-07-29T17:46:41.406318Z"
    },
    "papermill": {
     "duration": 0.03864,
     "end_time": "2025-07-29T17:46:41.408744",
     "exception": false,
     "start_time": "2025-07-29T17:46:41.370104",
     "status": "completed"
    },
    "tags": []
   },
   "outputs": [
    {
     "name": "stdout",
     "output_type": "stream",
     "text": [
      "<class 'pandas.core.frame.DataFrame'>\n",
      "RangeIndex: 6524 entries, 0 to 6523\n",
      "Data columns (total 17 columns):\n",
      " #   Column         Non-Null Count  Dtype  \n",
      "---  ------         --------------  -----  \n",
      " 0   name           6524 non-null   object \n",
      " 1   room_type      6502 non-null   object \n",
      " 2   cancel_type    5635 non-null   object \n",
      " 3   paymentType    3883 non-null   object \n",
      " 4   bed_type       6470 non-null   object \n",
      " 5   price          6502 non-null   object \n",
      " 6   review         6524 non-null   float64\n",
      " 7   review_count   6524 non-null   int64  \n",
      " 8   distance       5563 non-null   object \n",
      " 9   address        6524 non-null   object \n",
      " 10  checkin        6524 non-null   object \n",
      " 11  checkout       6524 non-null   object \n",
      " 12  city           6524 non-null   object \n",
      " 13  review_score   6524 non-null   object \n",
      " 14  facility       6524 non-null   object \n",
      " 15  checkIn_time   2992 non-null   object \n",
      " 16  checkOut_time  1059 non-null   object \n",
      "dtypes: float64(1), int64(1), object(15)\n",
      "memory usage: 866.6+ KB\n"
     ]
    }
   ],
   "source": [
    "hotels.info()"
   ]
  },
  {
   "cell_type": "code",
   "execution_count": 20,
   "id": "f0c0c968",
   "metadata": {
    "execution": {
     "iopub.execute_input": "2025-07-29T17:46:41.435355Z",
     "iopub.status.busy": "2025-07-29T17:46:41.435042Z",
     "iopub.status.idle": "2025-07-29T17:46:41.443741Z",
     "shell.execute_reply": "2025-07-29T17:46:41.442825Z"
    },
    "papermill": {
     "duration": 0.023943,
     "end_time": "2025-07-29T17:46:41.445277",
     "exception": false,
     "start_time": "2025-07-29T17:46:41.421334",
     "status": "completed"
    },
    "tags": []
   },
   "outputs": [],
   "source": [
    "hotels = hotels.dropna(subset=['price'])"
   ]
  },
  {
   "cell_type": "code",
   "execution_count": 21,
   "id": "5cd71935",
   "metadata": {
    "execution": {
     "iopub.execute_input": "2025-07-29T17:46:41.472322Z",
     "iopub.status.busy": "2025-07-29T17:46:41.472028Z",
     "iopub.status.idle": "2025-07-29T17:46:41.486415Z",
     "shell.execute_reply": "2025-07-29T17:46:41.485526Z"
    },
    "papermill": {
     "duration": 0.029365,
     "end_time": "2025-07-29T17:46:41.487847",
     "exception": false,
     "start_time": "2025-07-29T17:46:41.458482",
     "status": "completed"
    },
    "tags": []
   },
   "outputs": [],
   "source": [
    "# converting price to numeric\n",
    "\n",
    "hotels['price'] = pd.to_numeric(hotels.price.str.replace('₹\\xa0', '').str.replace(',', ''))"
   ]
  },
  {
   "cell_type": "code",
   "execution_count": 22,
   "id": "fd93da95",
   "metadata": {
    "execution": {
     "iopub.execute_input": "2025-07-29T17:46:41.514555Z",
     "iopub.status.busy": "2025-07-29T17:46:41.513937Z",
     "iopub.status.idle": "2025-07-29T17:46:41.521335Z",
     "shell.execute_reply": "2025-07-29T17:46:41.520369Z"
    },
    "papermill": {
     "duration": 0.022249,
     "end_time": "2025-07-29T17:46:41.522702",
     "exception": false,
     "start_time": "2025-07-29T17:46:41.500453",
     "status": "completed"
    },
    "tags": []
   },
   "outputs": [
    {
     "data": {
      "text/plain": [
       "cancel_type\n",
       "Free cancellation       5561\n",
       "No prepayment needed      74\n",
       "Name: count, dtype: int64"
      ]
     },
     "execution_count": 22,
     "metadata": {},
     "output_type": "execute_result"
    }
   ],
   "source": [
    "hotels['cancel_type'].value_counts()"
   ]
  },
  {
   "cell_type": "code",
   "execution_count": 23,
   "id": "3c6ab0be",
   "metadata": {
    "execution": {
     "iopub.execute_input": "2025-07-29T17:46:41.549437Z",
     "iopub.status.busy": "2025-07-29T17:46:41.548796Z",
     "iopub.status.idle": "2025-07-29T17:46:41.564682Z",
     "shell.execute_reply": "2025-07-29T17:46:41.563857Z"
    },
    "papermill": {
     "duration": 0.030643,
     "end_time": "2025-07-29T17:46:41.566004",
     "exception": false,
     "start_time": "2025-07-29T17:46:41.535361",
     "status": "completed"
    },
    "tags": []
   },
   "outputs": [
    {
     "data": {
      "text/html": [
       "<div>\n",
       "<style scoped>\n",
       "    .dataframe tbody tr th:only-of-type {\n",
       "        vertical-align: middle;\n",
       "    }\n",
       "\n",
       "    .dataframe tbody tr th {\n",
       "        vertical-align: top;\n",
       "    }\n",
       "\n",
       "    .dataframe thead th {\n",
       "        text-align: right;\n",
       "    }\n",
       "</style>\n",
       "<table border=\"1\" class=\"dataframe\">\n",
       "  <thead>\n",
       "    <tr style=\"text-align: right;\">\n",
       "      <th></th>\n",
       "      <th>name</th>\n",
       "      <th>room_type</th>\n",
       "      <th>cancel_type</th>\n",
       "      <th>paymentType</th>\n",
       "      <th>bed_type</th>\n",
       "      <th>price</th>\n",
       "      <th>review</th>\n",
       "      <th>review_count</th>\n",
       "      <th>distance</th>\n",
       "      <th>address</th>\n",
       "      <th>checkin</th>\n",
       "      <th>checkout</th>\n",
       "      <th>city</th>\n",
       "      <th>review_score</th>\n",
       "      <th>facility</th>\n",
       "      <th>checkIn_time</th>\n",
       "      <th>checkOut_time</th>\n",
       "    </tr>\n",
       "  </thead>\n",
       "  <tbody>\n",
       "    <tr>\n",
       "      <th>77</th>\n",
       "      <td>INDUS MOUNT ROYALE HOTEL - Mall Road</td>\n",
       "      <td>Deluxe Double Room</td>\n",
       "      <td>No prepayment needed</td>\n",
       "      <td>NaN</td>\n",
       "      <td>2 beds (1 sofa bed, 1 large double)</td>\n",
       "      <td>22500</td>\n",
       "      <td>6.4</td>\n",
       "      <td>5</td>\n",
       "      <td>0.7 km from centre</td>\n",
       "      <td>Darjeeling</td>\n",
       "      <td>2025-07-01</td>\n",
       "      <td>2025-07-07</td>\n",
       "      <td>Darjelling</td>\n",
       "      <td>{\"Staff\": \"7.5\", \"Facilities\": \"6.6\", \"Cleanli...</td>\n",
       "      <td>[\"Free WiFi\", \"Room service\", \"Non-smoking roo...</td>\n",
       "      <td>01:00</td>\n",
       "      <td>NaN</td>\n",
       "    </tr>\n",
       "    <tr>\n",
       "      <th>95</th>\n",
       "      <td>Alpenglow Homestay</td>\n",
       "      <td>Budget Double Room</td>\n",
       "      <td>No prepayment needed</td>\n",
       "      <td>NaN</td>\n",
       "      <td>1 large double bed</td>\n",
       "      <td>9000</td>\n",
       "      <td>8.0</td>\n",
       "      <td>1</td>\n",
       "      <td>1.1 km from centre</td>\n",
       "      <td>Darjeeling</td>\n",
       "      <td>2025-07-01</td>\n",
       "      <td>2025-07-07</td>\n",
       "      <td>Darjelling</td>\n",
       "      <td>{\"Staff\": \"8.8\", \"Facilities\": \"8.8\", \"Cleanli...</td>\n",
       "      <td>[\"Free WiFi\", \"Room service\", \"Non-smoking roo...</td>\n",
       "      <td>00:00</td>\n",
       "      <td>NaN</td>\n",
       "    </tr>\n",
       "    <tr>\n",
       "      <th>109</th>\n",
       "      <td>Pranav Homestays</td>\n",
       "      <td>Double or Twin Room</td>\n",
       "      <td>No prepayment needed</td>\n",
       "      <td>NaN</td>\n",
       "      <td>2 extra-large double beds</td>\n",
       "      <td>54000</td>\n",
       "      <td>-1.0</td>\n",
       "      <td>-1</td>\n",
       "      <td>4 km from centre</td>\n",
       "      <td>Darjeeling</td>\n",
       "      <td>2025-07-01</td>\n",
       "      <td>2025-07-07</td>\n",
       "      <td>Darjelling</td>\n",
       "      <td>{}</td>\n",
       "      <td>[\"Free WiFi\", \"Free parking\", \"Breakfast\"]</td>\n",
       "      <td>NaN</td>\n",
       "      <td>NaN</td>\n",
       "    </tr>\n",
       "    <tr>\n",
       "      <th>117</th>\n",
       "      <td>Aarna Valaya</td>\n",
       "      <td>Standard Family Room</td>\n",
       "      <td>No prepayment needed</td>\n",
       "      <td>NaN</td>\n",
       "      <td>1 double bed</td>\n",
       "      <td>17442</td>\n",
       "      <td>7.0</td>\n",
       "      <td>1</td>\n",
       "      <td>450 m from centre</td>\n",
       "      <td>Darjeeling</td>\n",
       "      <td>2025-07-01</td>\n",
       "      <td>2025-07-07</td>\n",
       "      <td>Darjelling</td>\n",
       "      <td>{}</td>\n",
       "      <td>[\"Family rooms\", \"Private parking\", \"Room serv...</td>\n",
       "      <td>NaN</td>\n",
       "      <td>NaN</td>\n",
       "    </tr>\n",
       "    <tr>\n",
       "      <th>148</th>\n",
       "      <td>Sai Maple Eco Resort, Darjeeling</td>\n",
       "      <td>Standard Double Room</td>\n",
       "      <td>No prepayment needed</td>\n",
       "      <td>NaN</td>\n",
       "      <td>2 beds (1 double, 1 futon)</td>\n",
       "      <td>12000</td>\n",
       "      <td>-1.0</td>\n",
       "      <td>-1</td>\n",
       "      <td>2.5 km from centre</td>\n",
       "      <td>Darjeeling</td>\n",
       "      <td>2025-07-01</td>\n",
       "      <td>2025-07-07</td>\n",
       "      <td>Darjelling</td>\n",
       "      <td>{}</td>\n",
       "      <td>[\"Free parking\", \"Room service\", \"Family rooms...</td>\n",
       "      <td>08:00</td>\n",
       "      <td>NaN</td>\n",
       "    </tr>\n",
       "  </tbody>\n",
       "</table>\n",
       "</div>"
      ],
      "text/plain": [
       "                                     name             room_type  \\\n",
       "77   INDUS MOUNT ROYALE HOTEL - Mall Road    Deluxe Double Room   \n",
       "95                     Alpenglow Homestay    Budget Double Room   \n",
       "109                      Pranav Homestays   Double or Twin Room   \n",
       "117                          Aarna Valaya  Standard Family Room   \n",
       "148      Sai Maple Eco Resort, Darjeeling  Standard Double Room   \n",
       "\n",
       "              cancel_type paymentType                             bed_type  \\\n",
       "77   No prepayment needed         NaN  2 beds (1 sofa bed, 1 large double)   \n",
       "95   No prepayment needed         NaN                   1 large double bed   \n",
       "109  No prepayment needed         NaN            2 extra-large double beds   \n",
       "117  No prepayment needed         NaN                         1 double bed   \n",
       "148  No prepayment needed         NaN           2 beds (1 double, 1 futon)   \n",
       "\n",
       "     price  review  review_count            distance     address     checkin  \\\n",
       "77   22500     6.4             5  0.7 km from centre  Darjeeling  2025-07-01   \n",
       "95    9000     8.0             1  1.1 km from centre  Darjeeling  2025-07-01   \n",
       "109  54000    -1.0            -1    4 km from centre  Darjeeling  2025-07-01   \n",
       "117  17442     7.0             1   450 m from centre  Darjeeling  2025-07-01   \n",
       "148  12000    -1.0            -1  2.5 km from centre  Darjeeling  2025-07-01   \n",
       "\n",
       "       checkout        city  \\\n",
       "77   2025-07-07  Darjelling   \n",
       "95   2025-07-07  Darjelling   \n",
       "109  2025-07-07  Darjelling   \n",
       "117  2025-07-07  Darjelling   \n",
       "148  2025-07-07  Darjelling   \n",
       "\n",
       "                                          review_score  \\\n",
       "77   {\"Staff\": \"7.5\", \"Facilities\": \"6.6\", \"Cleanli...   \n",
       "95   {\"Staff\": \"8.8\", \"Facilities\": \"8.8\", \"Cleanli...   \n",
       "109                                                 {}   \n",
       "117                                                 {}   \n",
       "148                                                 {}   \n",
       "\n",
       "                                              facility checkIn_time  \\\n",
       "77   [\"Free WiFi\", \"Room service\", \"Non-smoking roo...        01:00   \n",
       "95   [\"Free WiFi\", \"Room service\", \"Non-smoking roo...        00:00   \n",
       "109         [\"Free WiFi\", \"Free parking\", \"Breakfast\"]          NaN   \n",
       "117  [\"Family rooms\", \"Private parking\", \"Room serv...          NaN   \n",
       "148  [\"Free parking\", \"Room service\", \"Family rooms...        08:00   \n",
       "\n",
       "    checkOut_time  \n",
       "77            NaN  \n",
       "95            NaN  \n",
       "109           NaN  \n",
       "117           NaN  \n",
       "148           NaN  "
      ]
     },
     "execution_count": 23,
     "metadata": {},
     "output_type": "execute_result"
    }
   ],
   "source": [
    "# looks like some field of paymentType are included in cancel_type\n",
    "\n",
    "hotels[hotels['cancel_type'] == 'No prepayment needed'].head()"
   ]
  },
  {
   "cell_type": "code",
   "execution_count": 24,
   "id": "d35ced7f",
   "metadata": {
    "execution": {
     "iopub.execute_input": "2025-07-29T17:46:41.593549Z",
     "iopub.status.busy": "2025-07-29T17:46:41.592928Z",
     "iopub.status.idle": "2025-07-29T17:46:41.598594Z",
     "shell.execute_reply": "2025-07-29T17:46:41.597731Z"
    },
    "papermill": {
     "duration": 0.020836,
     "end_time": "2025-07-29T17:46:41.599934",
     "exception": false,
     "start_time": "2025-07-29T17:46:41.579098",
     "status": "completed"
    },
    "tags": []
   },
   "outputs": [],
   "source": [
    "# fixing mismatched value b/w cancel_type and payment type\n",
    "\n",
    "hotels['paymentType'] = np.where(hotels['cancel_type'] == 'No prepayment needed', \"No prepayment needed\", hotels['paymentType'])"
   ]
  },
  {
   "cell_type": "code",
   "execution_count": 25,
   "id": "17a6fce9",
   "metadata": {
    "execution": {
     "iopub.execute_input": "2025-07-29T17:46:41.627537Z",
     "iopub.status.busy": "2025-07-29T17:46:41.626662Z",
     "iopub.status.idle": "2025-07-29T17:46:41.632578Z",
     "shell.execute_reply": "2025-07-29T17:46:41.631747Z"
    },
    "papermill": {
     "duration": 0.021111,
     "end_time": "2025-07-29T17:46:41.633945",
     "exception": false,
     "start_time": "2025-07-29T17:46:41.612834",
     "status": "completed"
    },
    "tags": []
   },
   "outputs": [],
   "source": [
    "# using numeric flag for free cancel flag\n",
    "\n",
    "hotels['free_cancel_flag'] = np.where(hotels['cancel_type'] == 'Free cancellation', 1, 0)"
   ]
  },
  {
   "cell_type": "code",
   "execution_count": 26,
   "id": "a657c679",
   "metadata": {
    "execution": {
     "iopub.execute_input": "2025-07-29T17:46:41.661315Z",
     "iopub.status.busy": "2025-07-29T17:46:41.660728Z",
     "iopub.status.idle": "2025-07-29T17:46:41.666395Z",
     "shell.execute_reply": "2025-07-29T17:46:41.665759Z"
    },
    "papermill": {
     "duration": 0.020849,
     "end_time": "2025-07-29T17:46:41.667829",
     "exception": false,
     "start_time": "2025-07-29T17:46:41.646980",
     "status": "completed"
    },
    "tags": []
   },
   "outputs": [],
   "source": [
    "# using numeric flag for pre payment flag\n",
    "\n",
    "hotels['no_prepayment_flag'] = np.where(hotels['paymentType'] == 'No prepayment needed', 1, 0)"
   ]
  },
  {
   "cell_type": "code",
   "execution_count": 27,
   "id": "0f279456",
   "metadata": {
    "execution": {
     "iopub.execute_input": "2025-07-29T17:46:41.695864Z",
     "iopub.status.busy": "2025-07-29T17:46:41.695587Z",
     "iopub.status.idle": "2025-07-29T17:46:41.720691Z",
     "shell.execute_reply": "2025-07-29T17:46:41.719772Z"
    },
    "papermill": {
     "duration": 0.041237,
     "end_time": "2025-07-29T17:46:41.722136",
     "exception": false,
     "start_time": "2025-07-29T17:46:41.680899",
     "status": "completed"
    },
    "tags": []
   },
   "outputs": [],
   "source": [
    "# converting distance to numeric\n",
    "\n",
    "distance_km = pd.to_numeric(\n",
    "    hotels['distance'].str.replace(' km from centre', '', regex=False),\n",
    "    errors='coerce'\n",
    ")\n",
    "\n",
    "distance_m = pd.to_numeric(\n",
    "    hotels['distance'].str.replace(' m from centre', '', regex=False),\n",
    "    errors='coerce'\n",
    ")/1000\n",
    "\n",
    "distance_m = pd.to_numeric(\n",
    "    hotels['distance'].str.replace(' m from centre', '', regex=False),\n",
    "    errors='coerce'\n",
    ")/1000\n",
    "\n",
    "hotels['distance'] =  np.where(hotels['distance'].str.contains(' m from centre'), distance_m, distance_km)"
   ]
  },
  {
   "cell_type": "code",
   "execution_count": 28,
   "id": "2369659b",
   "metadata": {
    "execution": {
     "iopub.execute_input": "2025-07-29T17:46:41.749803Z",
     "iopub.status.busy": "2025-07-29T17:46:41.749040Z",
     "iopub.status.idle": "2025-07-29T17:46:41.757931Z",
     "shell.execute_reply": "2025-07-29T17:46:41.757257Z"
    },
    "papermill": {
     "duration": 0.024156,
     "end_time": "2025-07-29T17:46:41.759345",
     "exception": false,
     "start_time": "2025-07-29T17:46:41.735189",
     "status": "completed"
    },
    "tags": []
   },
   "outputs": [
    {
     "data": {
      "text/plain": [
       "bed_type\n",
       "1 double bed                                                                                                                       1015\n",
       "1 large double bed                                                                                                                  754\n",
       "1 extra-large double bed                                                                                                            523\n",
       "2 double beds                                                                                                                       457\n",
       "2 large double beds                                                                                                                 297\n",
       "                                                                                                                                   ... \n",
       "Entire villa • 4 bedrooms • 4 bathrooms • 1 kitchen • 279 m²4 large double beds                                                       1\n",
       "Private suite • 1 bedroom • 1 living room • 1 bathroom • 39 m²2 beds (1 extra-large double, 1 sofa bed)                               1\n",
       "Entire bungalow • 3 bedrooms • 3 living rooms • 3 bathrooms5 beds (1 double, 1 extra-large double, 2 sofa beds, 1 large double)       1\n",
       "Entire holiday home • 1 bedroom • 1 living room • 4 bathrooms6 beds (2 singles, 3 doubles, 1 sofa bed)                                1\n",
       "Entire apartment • 1 bedroom • 1 bathroom • 1 kitchen • 15 m²2 beds (1 single, 1 double)                                              1\n",
       "Name: count, Length: 1711, dtype: int64"
      ]
     },
     "execution_count": 28,
     "metadata": {},
     "output_type": "execute_result"
    }
   ],
   "source": [
    "hotels['bed_type'].value_counts()"
   ]
  },
  {
   "cell_type": "code",
   "execution_count": 29,
   "id": "9b5e02ba",
   "metadata": {
    "execution": {
     "iopub.execute_input": "2025-07-29T17:46:41.787151Z",
     "iopub.status.busy": "2025-07-29T17:46:41.786263Z",
     "iopub.status.idle": "2025-07-29T17:46:43.082577Z",
     "shell.execute_reply": "2025-07-29T17:46:43.081675Z"
    },
    "papermill": {
     "duration": 1.311776,
     "end_time": "2025-07-29T17:46:43.084345",
     "exception": false,
     "start_time": "2025-07-29T17:46:41.772569",
     "status": "completed"
    },
    "tags": []
   },
   "outputs": [],
   "source": [
    "import re\n",
    "\n",
    "def parse_bed_breakdown(breakdown):\n",
    "    counts = {\n",
    "        'single': 0,\n",
    "        'double': 0,\n",
    "        'queen': 0,\n",
    "        'king': 0,\n",
    "        'extra_large': 0,\n",
    "        'sofa': 0,\n",
    "        'bunk': 0\n",
    "    }\n",
    "    if pd.isna(breakdown):\n",
    "        return pd.Series(counts)\n",
    "\n",
    "    for match in re.findall(r'(\\d+)\\s+([a-zA-Z\\- ]+)', breakdown.lower()):\n",
    "        num, bed_type = match\n",
    "        num = int(num)\n",
    "        bed_type = bed_type.strip()\n",
    "        \n",
    "        # Normalize bed type\n",
    "        if 'extra' in bed_type and 'large' in bed_type:\n",
    "            counts['extra_large'] += num\n",
    "        elif 'single' in bed_type:\n",
    "            counts['single'] += num\n",
    "        elif 'double' in bed_type:\n",
    "            counts['double'] += num\n",
    "        elif 'queen' in bed_type:\n",
    "            counts['queen'] += num\n",
    "        elif 'king' in bed_type:\n",
    "            counts['king'] += num\n",
    "        elif 'sofa' in bed_type:\n",
    "            counts['sofa'] += num\n",
    "        elif 'bunk' in bed_type:\n",
    "            counts['bunk'] += num\n",
    "\n",
    "    return pd.Series(counts)\n",
    "\n",
    "bed_counts_df = hotels['bed_type'].apply(parse_bed_breakdown)"
   ]
  },
  {
   "cell_type": "code",
   "execution_count": 30,
   "id": "b50a510f",
   "metadata": {
    "execution": {
     "iopub.execute_input": "2025-07-29T17:46:43.113504Z",
     "iopub.status.busy": "2025-07-29T17:46:43.113186Z",
     "iopub.status.idle": "2025-07-29T17:46:43.121766Z",
     "shell.execute_reply": "2025-07-29T17:46:43.121079Z"
    },
    "papermill": {
     "duration": 0.024513,
     "end_time": "2025-07-29T17:46:43.123044",
     "exception": false,
     "start_time": "2025-07-29T17:46:43.098531",
     "status": "completed"
    },
    "tags": []
   },
   "outputs": [
    {
     "data": {
      "text/html": [
       "<div>\n",
       "<style scoped>\n",
       "    .dataframe tbody tr th:only-of-type {\n",
       "        vertical-align: middle;\n",
       "    }\n",
       "\n",
       "    .dataframe tbody tr th {\n",
       "        vertical-align: top;\n",
       "    }\n",
       "\n",
       "    .dataframe thead th {\n",
       "        text-align: right;\n",
       "    }\n",
       "</style>\n",
       "<table border=\"1\" class=\"dataframe\">\n",
       "  <thead>\n",
       "    <tr style=\"text-align: right;\">\n",
       "      <th></th>\n",
       "      <th>single</th>\n",
       "      <th>double</th>\n",
       "      <th>queen</th>\n",
       "      <th>king</th>\n",
       "      <th>extra_large</th>\n",
       "      <th>sofa</th>\n",
       "      <th>bunk</th>\n",
       "    </tr>\n",
       "  </thead>\n",
       "  <tbody>\n",
       "    <tr>\n",
       "      <th>0</th>\n",
       "      <td>0</td>\n",
       "      <td>1</td>\n",
       "      <td>0</td>\n",
       "      <td>0</td>\n",
       "      <td>0</td>\n",
       "      <td>0</td>\n",
       "      <td>0</td>\n",
       "    </tr>\n",
       "    <tr>\n",
       "      <th>1</th>\n",
       "      <td>0</td>\n",
       "      <td>1</td>\n",
       "      <td>0</td>\n",
       "      <td>0</td>\n",
       "      <td>0</td>\n",
       "      <td>0</td>\n",
       "      <td>0</td>\n",
       "    </tr>\n",
       "    <tr>\n",
       "      <th>2</th>\n",
       "      <td>0</td>\n",
       "      <td>1</td>\n",
       "      <td>0</td>\n",
       "      <td>0</td>\n",
       "      <td>1</td>\n",
       "      <td>0</td>\n",
       "      <td>0</td>\n",
       "    </tr>\n",
       "    <tr>\n",
       "      <th>3</th>\n",
       "      <td>0</td>\n",
       "      <td>0</td>\n",
       "      <td>0</td>\n",
       "      <td>0</td>\n",
       "      <td>1</td>\n",
       "      <td>0</td>\n",
       "      <td>0</td>\n",
       "    </tr>\n",
       "    <tr>\n",
       "      <th>4</th>\n",
       "      <td>0</td>\n",
       "      <td>0</td>\n",
       "      <td>0</td>\n",
       "      <td>0</td>\n",
       "      <td>1</td>\n",
       "      <td>0</td>\n",
       "      <td>0</td>\n",
       "    </tr>\n",
       "  </tbody>\n",
       "</table>\n",
       "</div>"
      ],
      "text/plain": [
       "   single  double  queen  king  extra_large  sofa  bunk\n",
       "0       0       1      0     0            0     0     0\n",
       "1       0       1      0     0            0     0     0\n",
       "2       0       1      0     0            1     0     0\n",
       "3       0       0      0     0            1     0     0\n",
       "4       0       0      0     0            1     0     0"
      ]
     },
     "execution_count": 30,
     "metadata": {},
     "output_type": "execute_result"
    }
   ],
   "source": [
    "bed_counts_df.head()"
   ]
  },
  {
   "cell_type": "code",
   "execution_count": 31,
   "id": "315389b1",
   "metadata": {
    "execution": {
     "iopub.execute_input": "2025-07-29T17:46:43.151260Z",
     "iopub.status.busy": "2025-07-29T17:46:43.150682Z",
     "iopub.status.idle": "2025-07-29T17:46:43.162224Z",
     "shell.execute_reply": "2025-07-29T17:46:43.161386Z"
    },
    "papermill": {
     "duration": 0.026798,
     "end_time": "2025-07-29T17:46:43.163586",
     "exception": false,
     "start_time": "2025-07-29T17:46:43.136788",
     "status": "completed"
    },
    "tags": []
   },
   "outputs": [
    {
     "data": {
      "text/html": [
       "<div>\n",
       "<style scoped>\n",
       "    .dataframe tbody tr th:only-of-type {\n",
       "        vertical-align: middle;\n",
       "    }\n",
       "\n",
       "    .dataframe tbody tr th {\n",
       "        vertical-align: top;\n",
       "    }\n",
       "\n",
       "    .dataframe thead th {\n",
       "        text-align: right;\n",
       "    }\n",
       "</style>\n",
       "<table border=\"1\" class=\"dataframe\">\n",
       "  <thead>\n",
       "    <tr style=\"text-align: right;\">\n",
       "      <th></th>\n",
       "      <th>single</th>\n",
       "      <th>double</th>\n",
       "      <th>queen</th>\n",
       "      <th>king</th>\n",
       "      <th>extra_large</th>\n",
       "      <th>sofa</th>\n",
       "      <th>bunk</th>\n",
       "    </tr>\n",
       "  </thead>\n",
       "  <tbody>\n",
       "    <tr>\n",
       "      <th>666</th>\n",
       "      <td>0</td>\n",
       "      <td>0</td>\n",
       "      <td>0</td>\n",
       "      <td>0</td>\n",
       "      <td>0</td>\n",
       "      <td>0</td>\n",
       "      <td>4</td>\n",
       "    </tr>\n",
       "    <tr>\n",
       "      <th>795</th>\n",
       "      <td>0</td>\n",
       "      <td>0</td>\n",
       "      <td>0</td>\n",
       "      <td>0</td>\n",
       "      <td>1</td>\n",
       "      <td>0</td>\n",
       "      <td>2</td>\n",
       "    </tr>\n",
       "    <tr>\n",
       "      <th>819</th>\n",
       "      <td>0</td>\n",
       "      <td>0</td>\n",
       "      <td>0</td>\n",
       "      <td>0</td>\n",
       "      <td>0</td>\n",
       "      <td>0</td>\n",
       "      <td>4</td>\n",
       "    </tr>\n",
       "    <tr>\n",
       "      <th>839</th>\n",
       "      <td>0</td>\n",
       "      <td>0</td>\n",
       "      <td>0</td>\n",
       "      <td>0</td>\n",
       "      <td>1</td>\n",
       "      <td>0</td>\n",
       "      <td>2</td>\n",
       "    </tr>\n",
       "    <tr>\n",
       "      <th>976</th>\n",
       "      <td>0</td>\n",
       "      <td>0</td>\n",
       "      <td>0</td>\n",
       "      <td>0</td>\n",
       "      <td>0</td>\n",
       "      <td>0</td>\n",
       "      <td>25</td>\n",
       "    </tr>\n",
       "    <tr>\n",
       "      <th>1611</th>\n",
       "      <td>0</td>\n",
       "      <td>0</td>\n",
       "      <td>0</td>\n",
       "      <td>0</td>\n",
       "      <td>1</td>\n",
       "      <td>0</td>\n",
       "      <td>2</td>\n",
       "    </tr>\n",
       "    <tr>\n",
       "      <th>1955</th>\n",
       "      <td>0</td>\n",
       "      <td>0</td>\n",
       "      <td>0</td>\n",
       "      <td>0</td>\n",
       "      <td>0</td>\n",
       "      <td>0</td>\n",
       "      <td>2</td>\n",
       "    </tr>\n",
       "    <tr>\n",
       "      <th>1994</th>\n",
       "      <td>1</td>\n",
       "      <td>1</td>\n",
       "      <td>0</td>\n",
       "      <td>0</td>\n",
       "      <td>0</td>\n",
       "      <td>0</td>\n",
       "      <td>2</td>\n",
       "    </tr>\n",
       "    <tr>\n",
       "      <th>2072</th>\n",
       "      <td>0</td>\n",
       "      <td>2</td>\n",
       "      <td>0</td>\n",
       "      <td>0</td>\n",
       "      <td>0</td>\n",
       "      <td>0</td>\n",
       "      <td>2</td>\n",
       "    </tr>\n",
       "    <tr>\n",
       "      <th>2501</th>\n",
       "      <td>0</td>\n",
       "      <td>2</td>\n",
       "      <td>0</td>\n",
       "      <td>0</td>\n",
       "      <td>0</td>\n",
       "      <td>4</td>\n",
       "      <td>2</td>\n",
       "    </tr>\n",
       "    <tr>\n",
       "      <th>2619</th>\n",
       "      <td>0</td>\n",
       "      <td>0</td>\n",
       "      <td>0</td>\n",
       "      <td>0</td>\n",
       "      <td>0</td>\n",
       "      <td>0</td>\n",
       "      <td>4</td>\n",
       "    </tr>\n",
       "    <tr>\n",
       "      <th>2648</th>\n",
       "      <td>0</td>\n",
       "      <td>0</td>\n",
       "      <td>0</td>\n",
       "      <td>0</td>\n",
       "      <td>0</td>\n",
       "      <td>0</td>\n",
       "      <td>4</td>\n",
       "    </tr>\n",
       "    <tr>\n",
       "      <th>2662</th>\n",
       "      <td>0</td>\n",
       "      <td>1</td>\n",
       "      <td>0</td>\n",
       "      <td>0</td>\n",
       "      <td>0</td>\n",
       "      <td>0</td>\n",
       "      <td>2</td>\n",
       "    </tr>\n",
       "    <tr>\n",
       "      <th>2699</th>\n",
       "      <td>1</td>\n",
       "      <td>2</td>\n",
       "      <td>0</td>\n",
       "      <td>0</td>\n",
       "      <td>0</td>\n",
       "      <td>1</td>\n",
       "      <td>2</td>\n",
       "    </tr>\n",
       "    <tr>\n",
       "      <th>2871</th>\n",
       "      <td>0</td>\n",
       "      <td>1</td>\n",
       "      <td>0</td>\n",
       "      <td>0</td>\n",
       "      <td>0</td>\n",
       "      <td>0</td>\n",
       "      <td>2</td>\n",
       "    </tr>\n",
       "    <tr>\n",
       "      <th>2896</th>\n",
       "      <td>0</td>\n",
       "      <td>1</td>\n",
       "      <td>0</td>\n",
       "      <td>0</td>\n",
       "      <td>0</td>\n",
       "      <td>0</td>\n",
       "      <td>2</td>\n",
       "    </tr>\n",
       "    <tr>\n",
       "      <th>2963</th>\n",
       "      <td>0</td>\n",
       "      <td>1</td>\n",
       "      <td>0</td>\n",
       "      <td>0</td>\n",
       "      <td>0</td>\n",
       "      <td>0</td>\n",
       "      <td>2</td>\n",
       "    </tr>\n",
       "    <tr>\n",
       "      <th>2983</th>\n",
       "      <td>0</td>\n",
       "      <td>1</td>\n",
       "      <td>0</td>\n",
       "      <td>0</td>\n",
       "      <td>0</td>\n",
       "      <td>0</td>\n",
       "      <td>2</td>\n",
       "    </tr>\n",
       "    <tr>\n",
       "      <th>3008</th>\n",
       "      <td>0</td>\n",
       "      <td>0</td>\n",
       "      <td>0</td>\n",
       "      <td>0</td>\n",
       "      <td>1</td>\n",
       "      <td>0</td>\n",
       "      <td>2</td>\n",
       "    </tr>\n",
       "    <tr>\n",
       "      <th>3020</th>\n",
       "      <td>0</td>\n",
       "      <td>1</td>\n",
       "      <td>0</td>\n",
       "      <td>0</td>\n",
       "      <td>0</td>\n",
       "      <td>0</td>\n",
       "      <td>2</td>\n",
       "    </tr>\n",
       "    <tr>\n",
       "      <th>3032</th>\n",
       "      <td>0</td>\n",
       "      <td>1</td>\n",
       "      <td>0</td>\n",
       "      <td>0</td>\n",
       "      <td>0</td>\n",
       "      <td>0</td>\n",
       "      <td>2</td>\n",
       "    </tr>\n",
       "    <tr>\n",
       "      <th>3035</th>\n",
       "      <td>0</td>\n",
       "      <td>1</td>\n",
       "      <td>0</td>\n",
       "      <td>0</td>\n",
       "      <td>0</td>\n",
       "      <td>0</td>\n",
       "      <td>2</td>\n",
       "    </tr>\n",
       "    <tr>\n",
       "      <th>3038</th>\n",
       "      <td>0</td>\n",
       "      <td>1</td>\n",
       "      <td>0</td>\n",
       "      <td>0</td>\n",
       "      <td>0</td>\n",
       "      <td>0</td>\n",
       "      <td>2</td>\n",
       "    </tr>\n",
       "    <tr>\n",
       "      <th>3039</th>\n",
       "      <td>0</td>\n",
       "      <td>1</td>\n",
       "      <td>0</td>\n",
       "      <td>0</td>\n",
       "      <td>0</td>\n",
       "      <td>0</td>\n",
       "      <td>2</td>\n",
       "    </tr>\n",
       "    <tr>\n",
       "      <th>3077</th>\n",
       "      <td>0</td>\n",
       "      <td>1</td>\n",
       "      <td>0</td>\n",
       "      <td>0</td>\n",
       "      <td>0</td>\n",
       "      <td>0</td>\n",
       "      <td>2</td>\n",
       "    </tr>\n",
       "    <tr>\n",
       "      <th>3086</th>\n",
       "      <td>0</td>\n",
       "      <td>1</td>\n",
       "      <td>0</td>\n",
       "      <td>0</td>\n",
       "      <td>0</td>\n",
       "      <td>0</td>\n",
       "      <td>2</td>\n",
       "    </tr>\n",
       "    <tr>\n",
       "      <th>3094</th>\n",
       "      <td>0</td>\n",
       "      <td>1</td>\n",
       "      <td>0</td>\n",
       "      <td>0</td>\n",
       "      <td>0</td>\n",
       "      <td>0</td>\n",
       "      <td>5</td>\n",
       "    </tr>\n",
       "    <tr>\n",
       "      <th>3881</th>\n",
       "      <td>0</td>\n",
       "      <td>1</td>\n",
       "      <td>0</td>\n",
       "      <td>0</td>\n",
       "      <td>1</td>\n",
       "      <td>0</td>\n",
       "      <td>2</td>\n",
       "    </tr>\n",
       "    <tr>\n",
       "      <th>4117</th>\n",
       "      <td>0</td>\n",
       "      <td>0</td>\n",
       "      <td>0</td>\n",
       "      <td>0</td>\n",
       "      <td>0</td>\n",
       "      <td>0</td>\n",
       "      <td>10</td>\n",
       "    </tr>\n",
       "    <tr>\n",
       "      <th>4456</th>\n",
       "      <td>0</td>\n",
       "      <td>0</td>\n",
       "      <td>0</td>\n",
       "      <td>0</td>\n",
       "      <td>0</td>\n",
       "      <td>0</td>\n",
       "      <td>6</td>\n",
       "    </tr>\n",
       "    <tr>\n",
       "      <th>4868</th>\n",
       "      <td>0</td>\n",
       "      <td>0</td>\n",
       "      <td>0</td>\n",
       "      <td>0</td>\n",
       "      <td>0</td>\n",
       "      <td>0</td>\n",
       "      <td>4</td>\n",
       "    </tr>\n",
       "    <tr>\n",
       "      <th>4887</th>\n",
       "      <td>0</td>\n",
       "      <td>0</td>\n",
       "      <td>0</td>\n",
       "      <td>0</td>\n",
       "      <td>0</td>\n",
       "      <td>0</td>\n",
       "      <td>2</td>\n",
       "    </tr>\n",
       "    <tr>\n",
       "      <th>4956</th>\n",
       "      <td>0</td>\n",
       "      <td>1</td>\n",
       "      <td>0</td>\n",
       "      <td>0</td>\n",
       "      <td>0</td>\n",
       "      <td>2</td>\n",
       "      <td>3</td>\n",
       "    </tr>\n",
       "    <tr>\n",
       "      <th>5686</th>\n",
       "      <td>0</td>\n",
       "      <td>2</td>\n",
       "      <td>0</td>\n",
       "      <td>0</td>\n",
       "      <td>0</td>\n",
       "      <td>0</td>\n",
       "      <td>2</td>\n",
       "    </tr>\n",
       "    <tr>\n",
       "      <th>5847</th>\n",
       "      <td>0</td>\n",
       "      <td>0</td>\n",
       "      <td>0</td>\n",
       "      <td>0</td>\n",
       "      <td>0</td>\n",
       "      <td>0</td>\n",
       "      <td>6</td>\n",
       "    </tr>\n",
       "    <tr>\n",
       "      <th>6298</th>\n",
       "      <td>0</td>\n",
       "      <td>0</td>\n",
       "      <td>0</td>\n",
       "      <td>0</td>\n",
       "      <td>1</td>\n",
       "      <td>0</td>\n",
       "      <td>2</td>\n",
       "    </tr>\n",
       "  </tbody>\n",
       "</table>\n",
       "</div>"
      ],
      "text/plain": [
       "      single  double  queen  king  extra_large  sofa  bunk\n",
       "666        0       0      0     0            0     0     4\n",
       "795        0       0      0     0            1     0     2\n",
       "819        0       0      0     0            0     0     4\n",
       "839        0       0      0     0            1     0     2\n",
       "976        0       0      0     0            0     0    25\n",
       "1611       0       0      0     0            1     0     2\n",
       "1955       0       0      0     0            0     0     2\n",
       "1994       1       1      0     0            0     0     2\n",
       "2072       0       2      0     0            0     0     2\n",
       "2501       0       2      0     0            0     4     2\n",
       "2619       0       0      0     0            0     0     4\n",
       "2648       0       0      0     0            0     0     4\n",
       "2662       0       1      0     0            0     0     2\n",
       "2699       1       2      0     0            0     1     2\n",
       "2871       0       1      0     0            0     0     2\n",
       "2896       0       1      0     0            0     0     2\n",
       "2963       0       1      0     0            0     0     2\n",
       "2983       0       1      0     0            0     0     2\n",
       "3008       0       0      0     0            1     0     2\n",
       "3020       0       1      0     0            0     0     2\n",
       "3032       0       1      0     0            0     0     2\n",
       "3035       0       1      0     0            0     0     2\n",
       "3038       0       1      0     0            0     0     2\n",
       "3039       0       1      0     0            0     0     2\n",
       "3077       0       1      0     0            0     0     2\n",
       "3086       0       1      0     0            0     0     2\n",
       "3094       0       1      0     0            0     0     5\n",
       "3881       0       1      0     0            1     0     2\n",
       "4117       0       0      0     0            0     0    10\n",
       "4456       0       0      0     0            0     0     6\n",
       "4868       0       0      0     0            0     0     4\n",
       "4887       0       0      0     0            0     0     2\n",
       "4956       0       1      0     0            0     2     3\n",
       "5686       0       2      0     0            0     0     2\n",
       "5847       0       0      0     0            0     0     6\n",
       "6298       0       0      0     0            1     0     2"
      ]
     },
     "execution_count": 31,
     "metadata": {},
     "output_type": "execute_result"
    }
   ],
   "source": [
    "bed_counts_df[bed_counts_df['bunk'] > 1]"
   ]
  },
  {
   "cell_type": "code",
   "execution_count": 32,
   "id": "8f003aac",
   "metadata": {
    "execution": {
     "iopub.execute_input": "2025-07-29T17:46:43.192019Z",
     "iopub.status.busy": "2025-07-29T17:46:43.191715Z",
     "iopub.status.idle": "2025-07-29T17:46:43.199198Z",
     "shell.execute_reply": "2025-07-29T17:46:43.198596Z"
    },
    "papermill": {
     "duration": 0.023027,
     "end_time": "2025-07-29T17:46:43.200491",
     "exception": false,
     "start_time": "2025-07-29T17:46:43.177464",
     "status": "completed"
    },
    "tags": []
   },
   "outputs": [],
   "source": [
    "hotels = pd.concat([hotels, bed_counts_df], axis=1)"
   ]
  },
  {
   "cell_type": "code",
   "execution_count": 33,
   "id": "d29ef305",
   "metadata": {
    "execution": {
     "iopub.execute_input": "2025-07-29T17:46:43.229565Z",
     "iopub.status.busy": "2025-07-29T17:46:43.229214Z",
     "iopub.status.idle": "2025-07-29T17:46:43.252464Z",
     "shell.execute_reply": "2025-07-29T17:46:43.251538Z"
    },
    "papermill": {
     "duration": 0.0391,
     "end_time": "2025-07-29T17:46:43.253931",
     "exception": false,
     "start_time": "2025-07-29T17:46:43.214831",
     "status": "completed"
    },
    "tags": []
   },
   "outputs": [
    {
     "name": "stdout",
     "output_type": "stream",
     "text": [
      "{'Fast free WiFi (152 Mbps)', '2 swimming pools', 'Free parking', 'Fast free WiFi (350 Mbps)', 'Cot always available', 'Fast free WiFi (107 Mbps)', 'Family rooms', 'Spa and wellness centre (Temporarily closed)', 'Good free WiFi (43 Mbps)', 'Good free WiFi (42 Mbps)', 'Fast free WiFi (92 Mbps)', 'Fast free WiFi (205 Mbps)', 'Good free WiFi (46 Mbps)', 'Fast free WiFi (85 Mbps)', 'WiFi', 'Free WiFi', 'Terrace', 'Fast free WiFi (120 Mbps)', 'Fast free WiFi (90 Mbps)', 'Fast free WiFi (235 Mbps)', 'Air conditioning', 'Good free WiFi (44 Mbps)', 'Good free WiFi (28 Mbps)', 'Fast free WiFi (213 Mbps)', 'Superb breakfast', 'Fast free WiFi (242 Mbps)', 'Free cot always available', 'Fast free WiFi (84 Mbps)', 'Good free WiFi (27 Mbps)', '7 restaurants', 'Fast free WiFi (268 Mbps)', 'Fast free WiFi (153 Mbps)', 'Basic free WiFi (12 Mbps)', 'Pool  - outdoor (kids)', 'Fast free WiFi (290 Mbps)', 'Fast free WiFi (148 Mbps)', 'Good free WiFi (47 Mbps)', 'Fast free WiFi (101 Mbps)', 'Daily housekeeping', 'Bar', 'Fast free WiFi (187 Mbps)', 'Good free WiFi (36 Mbps)', '2 restaurants', 'Fast free WiFi (97 Mbps)', 'Swimming Pool', 'Non-smoking rooms', 'Airport shuttle', 'Good free WiFi (41 Mbps)', 'Fast free WiFi (81 Mbps)', 'Fast free WiFi (108 Mbps)', 'Fast free WiFi (160 Mbps)', 'Restaurant (Temporarily closed)', 'Fast free WiFi (142 Mbps)', 'Good free WiFi (19 Mbps)', 'Heating', 'Fitness centre', 'Fabulous breakfast', 'Good free WiFi (37 Mbps)', 'Room service', 'Beachfront', '10 restaurants', 'Fast free WiFi (285 Mbps)', '24-hour front desk', '6 restaurants', 'Good free WiFi (49 Mbps)', 'Fast free WiFi (141 Mbps)', 'Good free WiFi (26 Mbps)', 'Free cot available on request', 'Lift', 'Good free WiFi (22 Mbps)', 'Good breakfast', 'Airport shuttle (free)', 'Fast free WiFi (118 Mbps)', 'Fast free WiFi (88 Mbps)', 'Fast free WiFi (183 Mbps)', 'Pool  - outdoor (kids) (Temporarily closed)', 'Fast free WiFi (170 Mbps)', 'Fast free WiFi (303 Mbps)', 'WiFi available in all areas', 'Good free WiFi (34 Mbps)', 'Fast free WiFi (188 Mbps)', 'Good free WiFi (31 Mbps)', 'Fast free WiFi (86 Mbps)', 'Parking', \"Children's cots (upon request)\", 'Facilities for disabled guests', 'Fast free WiFi (103 Mbps)', 'Fast free WiFi (214 Mbps)', 'Restaurant', 'Private beach area', 'Spa and wellness centre', '5 swimming pools', '3 swimming pools', 'Fast free WiFi (94 Mbps)', 'Fast free WiFi (51 Mbps)', 'Fast free WiFi (71 Mbps)', 'Fast free WiFi (258 Mbps)', 'Good free WiFi (48 Mbps)', 'Fast free WiFi (89 Mbps)', 'Bar (Temporarily closed)', 'Tea/coffee maker in all rooms', 'Fast free WiFi (438 Mbps)', 'Good free WiFi (32 Mbps)', 'Fast free WiFi (53 Mbps)', 'Fast free WiFi (134 Mbps)', 'Laundry', 'Exceptional breakfast', 'Outdoor swimming pool', 'Good free WiFi (39 Mbps)', 'Parking on site', 'Fast free WiFi (260 Mbps)', 'BBQ facilities', 'Fast free WiFi (75 Mbps)', 'Breakfast', 'Good free WiFi (30 Mbps)', 'Fast free WiFi (109 Mbps)', 'Fast free WiFi (63 Mbps)', 'Garden', '2 restaurants (1 open)', '3 restaurants', 'Basic free WiFi (9 Mbps)', 'Good free WiFi (23 Mbps)', 'Good free WiFi (29 Mbps)', 'Fast free WiFi (96 Mbps)', 'Fast free WiFi (206 Mbps)', 'Fast free WiFi (155 Mbps)', '9 restaurants', 'Fast free WiFi (110 Mbps)', 'Fast free WiFi (68 Mbps)', 'Indoor swimming pool', 'Fast free WiFi (133 Mbps)', 'Fast free WiFi (58 Mbps)', '4 restaurants', 'Fast free WiFi (165 Mbps)', 'Cot available on request', '5 restaurants', '2 swimming pools (1 open)', 'Good free WiFi (40 Mbps)', 'Good free WiFi (33 Mbps)', 'Fast free WiFi (83 Mbps)', 'Very good breakfast', 'Private parking'}\n",
      "142\n"
     ]
    }
   ],
   "source": [
    "# get unique facility from facility column\n",
    "\n",
    "facility_set = set()\n",
    "import json\n",
    "\n",
    "for fac in hotels['facility']:\n",
    "    fac_list = json.loads(fac)\n",
    "    for each_fac in fac_list:\n",
    "        facility_set.add(each_fac)\n",
    "\n",
    "print(facility_set)\n",
    "print(len(facility_set))"
   ]
  },
  {
   "cell_type": "code",
   "execution_count": 34,
   "id": "e5c0930e",
   "metadata": {
    "execution": {
     "iopub.execute_input": "2025-07-29T17:46:43.283025Z",
     "iopub.status.busy": "2025-07-29T17:46:43.282706Z",
     "iopub.status.idle": "2025-07-29T17:46:43.314436Z",
     "shell.execute_reply": "2025-07-29T17:46:43.313378Z"
    },
    "papermill": {
     "duration": 0.047871,
     "end_time": "2025-07-29T17:46:43.315845",
     "exception": false,
     "start_time": "2025-07-29T17:46:43.267974",
     "status": "completed"
    },
    "tags": []
   },
   "outputs": [
    {
     "name": "stdout",
     "output_type": "stream",
     "text": [
      "[('WiFi', 3074), ('Free parking', 2913), ('Family rooms', 2734), ('Room service', 2377), ('Non-smoking rooms', 2307), ('Breakfast', 2053), ('Restaurant', 994), ('Airport shuttle', 968), ('24-hour front desk', 968), ('Tea/coffee maker in all rooms', 680), ('Pool', 629), ('Air conditioning', 543), ('Bar', 397), ('Laundry', 384), ('Fitness centre', 370), ('Daily housekeeping', 299), ('Free cot available on request', 297), ('Facilities for disabled guests', 296), ('Terrace', 262), ('Spa and wellness centre', 197), ('BBQ facilities', 149), ('Lift', 110), ('Beachfront', 109), ('2 restaurants', 88), ('Airport shuttle (free)', 88), ('Heating', 84), ('Cot available on request', 82), ('Private parking', 79), ('Garden', 56), ('Parking', 31), ('Private beach area', 29), (\"Children's cots (upon request)\", 24), ('Parking on site', 21), ('3 restaurants', 20), ('Free cot always available', 11), ('4 restaurants', 9), ('6 restaurants', 5), ('Cot always available', 4), ('Restaurant (Temporarily closed)', 4), ('5 restaurants', 4), ('10 restaurants', 2), ('7 restaurants', 2), ('Spa and wellness centre (Temporarily closed)', 1), ('2 restaurants (1 open)', 1), ('Bar (Temporarily closed)', 1), ('9 restaurants', 1)]\n"
     ]
    }
   ],
   "source": [
    "facility_list1 = []\n",
    "\n",
    "# getting occurence count of each facility\n",
    "\n",
    "for fac in hotels['facility']:\n",
    "    fac_list = json.loads(fac)\n",
    "    for each_fac in fac_list:\n",
    "        if (\"WiFi\" in each_fac):\n",
    "            facility_list1.append(\"WiFi\")\n",
    "        elif \"reakfast\" in each_fac:\n",
    "            facility_list1.append(\"Breakfast\")\n",
    "        elif \"ool\" in each_fac:\n",
    "            facility_list1.append(\"Pool\")\n",
    "        else:\n",
    "            facility_list1.append(each_fac)\n",
    "\n",
    "fac_list_count = {}\n",
    "\n",
    "for fac in facility_list1:\n",
    "    if fac in fac_list_count:\n",
    "        fac_list_count[fac] += 1\n",
    "    else:\n",
    "        fac_list_count[fac] = 1\n",
    "\n",
    "print(sorted(fac_list_count.items(), key=lambda x: x[1], reverse=True))"
   ]
  },
  {
   "cell_type": "code",
   "execution_count": 35,
   "id": "1a05723b",
   "metadata": {
    "execution": {
     "iopub.execute_input": "2025-07-29T17:46:43.344877Z",
     "iopub.status.busy": "2025-07-29T17:46:43.344574Z",
     "iopub.status.idle": "2025-07-29T17:46:44.596869Z",
     "shell.execute_reply": "2025-07-29T17:46:44.595906Z"
    },
    "papermill": {
     "duration": 1.268775,
     "end_time": "2025-07-29T17:46:44.598661",
     "exception": false,
     "start_time": "2025-07-29T17:46:43.329886",
     "status": "completed"
    },
    "tags": []
   },
   "outputs": [],
   "source": [
    "def parse_facility(facility):\n",
    "    facility_list = json.loads(facility)\n",
    "    counts = {\n",
    "        'free_wifi' : 0,\n",
    "        'free_parking' : 0,\n",
    "        'breakfast' : 0,\n",
    "        'room_service' : 0,\n",
    "        'bar' : 0,\n",
    "        'airport_shuttle' : 0,\n",
    "        \"restaurant\" : 0,\n",
    "        \"pool\" : 0,\n",
    "        \"family_rooms\" : 0,\n",
    "        \"other_facility\" : 0\n",
    "        \n",
    "    }\n",
    "\n",
    "    for fac in facility_list:\n",
    "        if \"WiFi\" in fac:\n",
    "            counts['free_wifi'] = 1\n",
    "        elif \"reakfast\" in fac:\n",
    "            counts[\"breakfast\"] = 1\n",
    "        elif \"ool\" in fac:\n",
    "            counts[\"pool\"] = 1\n",
    "        elif \"Free parking\" in fac:\n",
    "            counts['free_parking'] = 1\n",
    "        elif \"Breakfast\" in fac or \"Good Breakfast\" in fac:\n",
    "            counts['breakfast'] = 1\n",
    "        elif \"Room service\" in fac:\n",
    "            counts['room_service'] = 1\n",
    "        elif \"Bar\" in fac:\n",
    "            counts[\"bar\"] = 1\n",
    "        elif \"Airport shuttle\" in fac:\n",
    "            counts[\"airport_shuttle\"] = 1\n",
    "        else:\n",
    "            counts[\"other_facility\"] = 1\n",
    "            \n",
    "    \n",
    "    return pd.Series(counts)\n",
    "\n",
    "fac_list = hotels['facility'].apply(parse_facility)"
   ]
  },
  {
   "cell_type": "code",
   "execution_count": 36,
   "id": "ece0a522",
   "metadata": {
    "execution": {
     "iopub.execute_input": "2025-07-29T17:46:44.627247Z",
     "iopub.status.busy": "2025-07-29T17:46:44.626845Z",
     "iopub.status.idle": "2025-07-29T17:46:44.637049Z",
     "shell.execute_reply": "2025-07-29T17:46:44.636293Z"
    },
    "papermill": {
     "duration": 0.026076,
     "end_time": "2025-07-29T17:46:44.638457",
     "exception": false,
     "start_time": "2025-07-29T17:46:44.612381",
     "status": "completed"
    },
    "tags": []
   },
   "outputs": [
    {
     "data": {
      "text/html": [
       "<div>\n",
       "<style scoped>\n",
       "    .dataframe tbody tr th:only-of-type {\n",
       "        vertical-align: middle;\n",
       "    }\n",
       "\n",
       "    .dataframe tbody tr th {\n",
       "        vertical-align: top;\n",
       "    }\n",
       "\n",
       "    .dataframe thead th {\n",
       "        text-align: right;\n",
       "    }\n",
       "</style>\n",
       "<table border=\"1\" class=\"dataframe\">\n",
       "  <thead>\n",
       "    <tr style=\"text-align: right;\">\n",
       "      <th></th>\n",
       "      <th>free_wifi</th>\n",
       "      <th>free_parking</th>\n",
       "      <th>breakfast</th>\n",
       "      <th>room_service</th>\n",
       "      <th>bar</th>\n",
       "      <th>airport_shuttle</th>\n",
       "      <th>restaurant</th>\n",
       "      <th>pool</th>\n",
       "      <th>family_rooms</th>\n",
       "      <th>other_facility</th>\n",
       "    </tr>\n",
       "  </thead>\n",
       "  <tbody>\n",
       "    <tr>\n",
       "      <th>0</th>\n",
       "      <td>1</td>\n",
       "      <td>1</td>\n",
       "      <td>1</td>\n",
       "      <td>0</td>\n",
       "      <td>0</td>\n",
       "      <td>0</td>\n",
       "      <td>0</td>\n",
       "      <td>0</td>\n",
       "      <td>0</td>\n",
       "      <td>0</td>\n",
       "    </tr>\n",
       "    <tr>\n",
       "      <th>1</th>\n",
       "      <td>1</td>\n",
       "      <td>0</td>\n",
       "      <td>1</td>\n",
       "      <td>1</td>\n",
       "      <td>1</td>\n",
       "      <td>1</td>\n",
       "      <td>0</td>\n",
       "      <td>0</td>\n",
       "      <td>0</td>\n",
       "      <td>1</td>\n",
       "    </tr>\n",
       "    <tr>\n",
       "      <th>2</th>\n",
       "      <td>1</td>\n",
       "      <td>1</td>\n",
       "      <td>1</td>\n",
       "      <td>1</td>\n",
       "      <td>0</td>\n",
       "      <td>1</td>\n",
       "      <td>0</td>\n",
       "      <td>0</td>\n",
       "      <td>0</td>\n",
       "      <td>1</td>\n",
       "    </tr>\n",
       "    <tr>\n",
       "      <th>3</th>\n",
       "      <td>1</td>\n",
       "      <td>0</td>\n",
       "      <td>0</td>\n",
       "      <td>1</td>\n",
       "      <td>0</td>\n",
       "      <td>0</td>\n",
       "      <td>0</td>\n",
       "      <td>0</td>\n",
       "      <td>0</td>\n",
       "      <td>1</td>\n",
       "    </tr>\n",
       "    <tr>\n",
       "      <th>4</th>\n",
       "      <td>0</td>\n",
       "      <td>0</td>\n",
       "      <td>0</td>\n",
       "      <td>0</td>\n",
       "      <td>0</td>\n",
       "      <td>0</td>\n",
       "      <td>0</td>\n",
       "      <td>0</td>\n",
       "      <td>0</td>\n",
       "      <td>0</td>\n",
       "    </tr>\n",
       "  </tbody>\n",
       "</table>\n",
       "</div>"
      ],
      "text/plain": [
       "   free_wifi  free_parking  breakfast  room_service  bar  airport_shuttle  \\\n",
       "0          1             1          1             0    0                0   \n",
       "1          1             0          1             1    1                1   \n",
       "2          1             1          1             1    0                1   \n",
       "3          1             0          0             1    0                0   \n",
       "4          0             0          0             0    0                0   \n",
       "\n",
       "   restaurant  pool  family_rooms  other_facility  \n",
       "0           0     0             0               0  \n",
       "1           0     0             0               1  \n",
       "2           0     0             0               1  \n",
       "3           0     0             0               1  \n",
       "4           0     0             0               0  "
      ]
     },
     "execution_count": 36,
     "metadata": {},
     "output_type": "execute_result"
    }
   ],
   "source": [
    "fac_list.head()"
   ]
  },
  {
   "cell_type": "code",
   "execution_count": 37,
   "id": "53677aa0",
   "metadata": {
    "execution": {
     "iopub.execute_input": "2025-07-29T17:46:44.667391Z",
     "iopub.status.busy": "2025-07-29T17:46:44.667108Z",
     "iopub.status.idle": "2025-07-29T17:46:44.673463Z",
     "shell.execute_reply": "2025-07-29T17:46:44.672822Z"
    },
    "papermill": {
     "duration": 0.022231,
     "end_time": "2025-07-29T17:46:44.674770",
     "exception": false,
     "start_time": "2025-07-29T17:46:44.652539",
     "status": "completed"
    },
    "tags": []
   },
   "outputs": [],
   "source": [
    "hotels = pd.concat([hotels, fac_list], axis=1)"
   ]
  },
  {
   "cell_type": "code",
   "execution_count": 38,
   "id": "a6e73e66",
   "metadata": {
    "execution": {
     "iopub.execute_input": "2025-07-29T17:46:44.705017Z",
     "iopub.status.busy": "2025-07-29T17:46:44.704695Z",
     "iopub.status.idle": "2025-07-29T17:46:44.727976Z",
     "shell.execute_reply": "2025-07-29T17:46:44.726890Z"
    },
    "papermill": {
     "duration": 0.040568,
     "end_time": "2025-07-29T17:46:44.729538",
     "exception": false,
     "start_time": "2025-07-29T17:46:44.688970",
     "status": "completed"
    },
    "tags": []
   },
   "outputs": [
    {
     "name": "stdout",
     "output_type": "stream",
     "text": [
      "{'Staff', 'Cleanliness', 'Value_for_money', 'Location', 'Comfort', 'Facilities', 'Free_WiFi'}\n"
     ]
    }
   ],
   "source": [
    "# getting unique criteria on rating\n",
    "\n",
    "unique_citeria = []\n",
    "\n",
    "for reviews in hotels['review_score']:\n",
    "    review = json.loads(reviews)\n",
    "    unique_citeria.extend(list(review.keys()))\n",
    "\n",
    "print(set(unique_citeria))"
   ]
  },
  {
   "cell_type": "code",
   "execution_count": 39,
   "id": "89feeb7c",
   "metadata": {
    "execution": {
     "iopub.execute_input": "2025-07-29T17:46:44.758868Z",
     "iopub.status.busy": "2025-07-29T17:46:44.758560Z",
     "iopub.status.idle": "2025-07-29T17:46:46.141421Z",
     "shell.execute_reply": "2025-07-29T17:46:46.140626Z"
    },
    "papermill": {
     "duration": 1.399438,
     "end_time": "2025-07-29T17:46:46.143165",
     "exception": false,
     "start_time": "2025-07-29T17:46:44.743727",
     "status": "completed"
    },
    "tags": []
   },
   "outputs": [],
   "source": [
    "def parse_review(reviews):\n",
    "    review = json.loads(reviews)\n",
    "    counts = {\n",
    "            'Staff' : 0, \n",
    "            'Cleanliness' : 0, \n",
    "            'Free_WiFi' : 0, \n",
    "            'Location' : 0, \n",
    "            'Facilities' : 0, \n",
    "            'Comfort' : 0, \n",
    "            'Value_for_money' : 0\n",
    "             }\n",
    "\n",
    "    for key, val in review.items():\n",
    "        counts[key] = pd.to_numeric(val)\n",
    "    \n",
    "    return pd.Series(counts)\n",
    "\n",
    "review_score_list = hotels['review_score'].apply(parse_review)"
   ]
  },
  {
   "cell_type": "code",
   "execution_count": 40,
   "id": "b331cab2",
   "metadata": {
    "execution": {
     "iopub.execute_input": "2025-07-29T17:46:46.173176Z",
     "iopub.status.busy": "2025-07-29T17:46:46.172863Z",
     "iopub.status.idle": "2025-07-29T17:46:46.184962Z",
     "shell.execute_reply": "2025-07-29T17:46:46.184285Z"
    },
    "papermill": {
     "duration": 0.028304,
     "end_time": "2025-07-29T17:46:46.186133",
     "exception": false,
     "start_time": "2025-07-29T17:46:46.157829",
     "status": "completed"
    },
    "tags": []
   },
   "outputs": [
    {
     "data": {
      "text/html": [
       "<div>\n",
       "<style scoped>\n",
       "    .dataframe tbody tr th:only-of-type {\n",
       "        vertical-align: middle;\n",
       "    }\n",
       "\n",
       "    .dataframe tbody tr th {\n",
       "        vertical-align: top;\n",
       "    }\n",
       "\n",
       "    .dataframe thead th {\n",
       "        text-align: right;\n",
       "    }\n",
       "</style>\n",
       "<table border=\"1\" class=\"dataframe\">\n",
       "  <thead>\n",
       "    <tr style=\"text-align: right;\">\n",
       "      <th></th>\n",
       "      <th>Staff</th>\n",
       "      <th>Cleanliness</th>\n",
       "      <th>Free_WiFi</th>\n",
       "      <th>Location</th>\n",
       "      <th>Facilities</th>\n",
       "      <th>Comfort</th>\n",
       "      <th>Value_for_money</th>\n",
       "    </tr>\n",
       "  </thead>\n",
       "  <tbody>\n",
       "    <tr>\n",
       "      <th>0</th>\n",
       "      <td>7.7</td>\n",
       "      <td>7.8</td>\n",
       "      <td>0.0</td>\n",
       "      <td>7.2</td>\n",
       "      <td>7.7</td>\n",
       "      <td>7.8</td>\n",
       "      <td>7.5</td>\n",
       "    </tr>\n",
       "    <tr>\n",
       "      <th>1</th>\n",
       "      <td>8.4</td>\n",
       "      <td>8.0</td>\n",
       "      <td>8.1</td>\n",
       "      <td>8.2</td>\n",
       "      <td>7.7</td>\n",
       "      <td>8.1</td>\n",
       "      <td>8.1</td>\n",
       "    </tr>\n",
       "    <tr>\n",
       "      <th>2</th>\n",
       "      <td>10.0</td>\n",
       "      <td>9.8</td>\n",
       "      <td>10.0</td>\n",
       "      <td>9.8</td>\n",
       "      <td>9.5</td>\n",
       "      <td>9.8</td>\n",
       "      <td>9.6</td>\n",
       "    </tr>\n",
       "    <tr>\n",
       "      <th>3</th>\n",
       "      <td>6.5</td>\n",
       "      <td>5.8</td>\n",
       "      <td>6.3</td>\n",
       "      <td>8.7</td>\n",
       "      <td>5.4</td>\n",
       "      <td>6.0</td>\n",
       "      <td>6.2</td>\n",
       "    </tr>\n",
       "    <tr>\n",
       "      <th>4</th>\n",
       "      <td>0.0</td>\n",
       "      <td>8.0</td>\n",
       "      <td>0.0</td>\n",
       "      <td>8.1</td>\n",
       "      <td>0.0</td>\n",
       "      <td>0.0</td>\n",
       "      <td>7.8</td>\n",
       "    </tr>\n",
       "  </tbody>\n",
       "</table>\n",
       "</div>"
      ],
      "text/plain": [
       "   Staff  Cleanliness  Free_WiFi  Location  Facilities  Comfort  \\\n",
       "0    7.7          7.8        0.0       7.2         7.7      7.8   \n",
       "1    8.4          8.0        8.1       8.2         7.7      8.1   \n",
       "2   10.0          9.8       10.0       9.8         9.5      9.8   \n",
       "3    6.5          5.8        6.3       8.7         5.4      6.0   \n",
       "4    0.0          8.0        0.0       8.1         0.0      0.0   \n",
       "\n",
       "   Value_for_money  \n",
       "0              7.5  \n",
       "1              8.1  \n",
       "2              9.6  \n",
       "3              6.2  \n",
       "4              7.8  "
      ]
     },
     "execution_count": 40,
     "metadata": {},
     "output_type": "execute_result"
    }
   ],
   "source": [
    "review_score_list.head()"
   ]
  },
  {
   "cell_type": "code",
   "execution_count": 41,
   "id": "fc4ce3f8",
   "metadata": {
    "execution": {
     "iopub.execute_input": "2025-07-29T17:46:46.215975Z",
     "iopub.status.busy": "2025-07-29T17:46:46.215625Z",
     "iopub.status.idle": "2025-07-29T17:46:46.224119Z",
     "shell.execute_reply": "2025-07-29T17:46:46.223431Z"
    },
    "papermill": {
     "duration": 0.02501,
     "end_time": "2025-07-29T17:46:46.225565",
     "exception": false,
     "start_time": "2025-07-29T17:46:46.200555",
     "status": "completed"
    },
    "tags": []
   },
   "outputs": [],
   "source": [
    "hotels = pd.concat([hotels, review_score_list], axis=1)"
   ]
  },
  {
   "cell_type": "code",
   "execution_count": 42,
   "id": "2f20e9d0",
   "metadata": {
    "execution": {
     "iopub.execute_input": "2025-07-29T17:46:46.255699Z",
     "iopub.status.busy": "2025-07-29T17:46:46.255366Z",
     "iopub.status.idle": "2025-07-29T17:46:46.261615Z",
     "shell.execute_reply": "2025-07-29T17:46:46.260813Z"
    },
    "papermill": {
     "duration": 0.022878,
     "end_time": "2025-07-29T17:46:46.263020",
     "exception": false,
     "start_time": "2025-07-29T17:46:46.240142",
     "status": "completed"
    },
    "tags": []
   },
   "outputs": [
    {
     "data": {
      "text/plain": [
       "np.float64(6.877387330806713)"
      ]
     },
     "execution_count": 42,
     "metadata": {},
     "output_type": "execute_result"
    }
   ],
   "source": [
    "np.mean(hotels['distance'])"
   ]
  },
  {
   "cell_type": "code",
   "execution_count": 43,
   "id": "3c555411",
   "metadata": {
    "execution": {
     "iopub.execute_input": "2025-07-29T17:46:46.292644Z",
     "iopub.status.busy": "2025-07-29T17:46:46.292313Z",
     "iopub.status.idle": "2025-07-29T17:46:46.297357Z",
     "shell.execute_reply": "2025-07-29T17:46:46.296573Z"
    },
    "papermill": {
     "duration": 0.021502,
     "end_time": "2025-07-29T17:46:46.298763",
     "exception": false,
     "start_time": "2025-07-29T17:46:46.277261",
     "status": "completed"
    },
    "tags": []
   },
   "outputs": [],
   "source": [
    "hotels['distance'] = np.where(hotels['distance'].isna(), 6.9, hotels['distance'])"
   ]
  },
  {
   "cell_type": "code",
   "execution_count": 44,
   "id": "36825a6f",
   "metadata": {
    "execution": {
     "iopub.execute_input": "2025-07-29T17:46:46.328998Z",
     "iopub.status.busy": "2025-07-29T17:46:46.328283Z",
     "iopub.status.idle": "2025-07-29T17:46:46.335058Z",
     "shell.execute_reply": "2025-07-29T17:46:46.334142Z"
    },
    "papermill": {
     "duration": 0.023214,
     "end_time": "2025-07-29T17:46:46.336464",
     "exception": false,
     "start_time": "2025-07-29T17:46:46.313250",
     "status": "completed"
    },
    "tags": []
   },
   "outputs": [],
   "source": [
    "# mapping city with its type\n",
    "\n",
    "city_map = {\n",
    "    \"Banglore\" : \"Metro\",\n",
    "    \"Darjelling\" : \"Hill\",\n",
    "    \"Delhi\" : \"Metro\",\n",
    "    \"Goa\" : \"Beach\",\n",
    "    \"Gokarna\" : \"Beach\",\n",
    "    \"Hyderabad\" : \"Metro\",\n",
    "    \"Manali\" : \"Hill\",\n",
    "    \"Mumbai\" : \"Metro\",\n",
    "    \"Munnar\" : \"Hill\",\n",
    "    \"Ooty\" : \"Hill\",\n",
    "    \"Pondicherry\" : \"Beach\",\n",
    "    \"Shimla\" : \"Hill\"\n",
    "}\n",
    "\n",
    "hotels['location_type'] = hotels['city'].map(city_map)"
   ]
  },
  {
   "cell_type": "code",
   "execution_count": 45,
   "id": "f0d26186",
   "metadata": {
    "execution": {
     "iopub.execute_input": "2025-07-29T17:46:46.366302Z",
     "iopub.status.busy": "2025-07-29T17:46:46.366009Z",
     "iopub.status.idle": "2025-07-29T17:46:46.372547Z",
     "shell.execute_reply": "2025-07-29T17:46:46.371806Z"
    },
    "papermill": {
     "duration": 0.023084,
     "end_time": "2025-07-29T17:46:46.373900",
     "exception": false,
     "start_time": "2025-07-29T17:46:46.350816",
     "status": "completed"
    },
    "tags": []
   },
   "outputs": [],
   "source": [
    "loc_type_dummy = pd.get_dummies(hotels['location_type'], drop_first=True, dtype=int)"
   ]
  },
  {
   "cell_type": "code",
   "execution_count": 46,
   "id": "4754a0bf",
   "metadata": {
    "execution": {
     "iopub.execute_input": "2025-07-29T17:46:46.404371Z",
     "iopub.status.busy": "2025-07-29T17:46:46.403697Z",
     "iopub.status.idle": "2025-07-29T17:46:46.411633Z",
     "shell.execute_reply": "2025-07-29T17:46:46.410798Z"
    },
    "papermill": {
     "duration": 0.024498,
     "end_time": "2025-07-29T17:46:46.413026",
     "exception": false,
     "start_time": "2025-07-29T17:46:46.388528",
     "status": "completed"
    },
    "tags": []
   },
   "outputs": [
    {
     "data": {
      "text/html": [
       "<div>\n",
       "<style scoped>\n",
       "    .dataframe tbody tr th:only-of-type {\n",
       "        vertical-align: middle;\n",
       "    }\n",
       "\n",
       "    .dataframe tbody tr th {\n",
       "        vertical-align: top;\n",
       "    }\n",
       "\n",
       "    .dataframe thead th {\n",
       "        text-align: right;\n",
       "    }\n",
       "</style>\n",
       "<table border=\"1\" class=\"dataframe\">\n",
       "  <thead>\n",
       "    <tr style=\"text-align: right;\">\n",
       "      <th></th>\n",
       "      <th>Hill</th>\n",
       "      <th>Metro</th>\n",
       "    </tr>\n",
       "  </thead>\n",
       "  <tbody>\n",
       "    <tr>\n",
       "      <th>0</th>\n",
       "      <td>1</td>\n",
       "      <td>0</td>\n",
       "    </tr>\n",
       "    <tr>\n",
       "      <th>1</th>\n",
       "      <td>1</td>\n",
       "      <td>0</td>\n",
       "    </tr>\n",
       "    <tr>\n",
       "      <th>2</th>\n",
       "      <td>1</td>\n",
       "      <td>0</td>\n",
       "    </tr>\n",
       "    <tr>\n",
       "      <th>3</th>\n",
       "      <td>1</td>\n",
       "      <td>0</td>\n",
       "    </tr>\n",
       "    <tr>\n",
       "      <th>4</th>\n",
       "      <td>1</td>\n",
       "      <td>0</td>\n",
       "    </tr>\n",
       "  </tbody>\n",
       "</table>\n",
       "</div>"
      ],
      "text/plain": [
       "   Hill  Metro\n",
       "0     1      0\n",
       "1     1      0\n",
       "2     1      0\n",
       "3     1      0\n",
       "4     1      0"
      ]
     },
     "execution_count": 46,
     "metadata": {},
     "output_type": "execute_result"
    }
   ],
   "source": [
    "loc_type_dummy.head()"
   ]
  },
  {
   "cell_type": "code",
   "execution_count": 47,
   "id": "c4f2ec84",
   "metadata": {
    "execution": {
     "iopub.execute_input": "2025-07-29T17:46:46.443061Z",
     "iopub.status.busy": "2025-07-29T17:46:46.442739Z",
     "iopub.status.idle": "2025-07-29T17:46:46.453061Z",
     "shell.execute_reply": "2025-07-29T17:46:46.452331Z"
    },
    "papermill": {
     "duration": 0.026938,
     "end_time": "2025-07-29T17:46:46.454520",
     "exception": false,
     "start_time": "2025-07-29T17:46:46.427582",
     "status": "completed"
    },
    "tags": []
   },
   "outputs": [],
   "source": [
    "hotels = pd.concat([hotels, loc_type_dummy], axis=1)"
   ]
  },
  {
   "cell_type": "code",
   "execution_count": 48,
   "id": "6429a192",
   "metadata": {
    "execution": {
     "iopub.execute_input": "2025-07-29T17:46:46.485008Z",
     "iopub.status.busy": "2025-07-29T17:46:46.484159Z",
     "iopub.status.idle": "2025-07-29T17:46:46.492312Z",
     "shell.execute_reply": "2025-07-29T17:46:46.491631Z"
    },
    "papermill": {
     "duration": 0.02471,
     "end_time": "2025-07-29T17:46:46.493648",
     "exception": false,
     "start_time": "2025-07-29T17:46:46.468938",
     "status": "completed"
    },
    "tags": []
   },
   "outputs": [
    {
     "data": {
      "text/plain": [
       "room_type\n",
       "Deluxe Room                611\n",
       "Deluxe Double Room         456\n",
       "Two-Bedroom Apartment      342\n",
       "Double Room                332\n",
       "One-Bedroom Apartment      318\n",
       "Standard Double Room       262\n",
       "Three-Bedroom Apartment    156\n",
       "Family Room                156\n",
       "Classic Triple Room        137\n",
       "Villa                      124\n",
       "Name: count, dtype: int64"
      ]
     },
     "execution_count": 48,
     "metadata": {},
     "output_type": "execute_result"
    }
   ],
   "source": [
    "hotels['room_type'].value_counts()[0:10]"
   ]
  },
  {
   "cell_type": "code",
   "execution_count": 49,
   "id": "cd713efa",
   "metadata": {
    "execution": {
     "iopub.execute_input": "2025-07-29T17:46:46.524700Z",
     "iopub.status.busy": "2025-07-29T17:46:46.523682Z",
     "iopub.status.idle": "2025-07-29T17:46:46.540720Z",
     "shell.execute_reply": "2025-07-29T17:46:46.539929Z"
    },
    "papermill": {
     "duration": 0.034005,
     "end_time": "2025-07-29T17:46:46.542361",
     "exception": false,
     "start_time": "2025-07-29T17:46:46.508356",
     "status": "completed"
    },
    "tags": []
   },
   "outputs": [
    {
     "name": "stdout",
     "output_type": "stream",
     "text": [
      "<class 'pandas.core.frame.DataFrame'>\n",
      "Index: 6502 entries, 0 to 6523\n",
      "Data columns (total 46 columns):\n",
      " #   Column              Non-Null Count  Dtype  \n",
      "---  ------              --------------  -----  \n",
      " 0   name                6502 non-null   object \n",
      " 1   room_type           6502 non-null   object \n",
      " 2   cancel_type         5635 non-null   object \n",
      " 3   paymentType         3953 non-null   object \n",
      " 4   bed_type            6470 non-null   object \n",
      " 5   price               6502 non-null   int64  \n",
      " 6   review              6502 non-null   float64\n",
      " 7   review_count        6502 non-null   int64  \n",
      " 8   distance            6502 non-null   float64\n",
      " 9   address             6502 non-null   object \n",
      " 10  checkin             6502 non-null   object \n",
      " 11  checkout            6502 non-null   object \n",
      " 12  city                6502 non-null   object \n",
      " 13  review_score        6502 non-null   object \n",
      " 14  facility            6502 non-null   object \n",
      " 15  checkIn_time        2984 non-null   object \n",
      " 16  checkOut_time       1055 non-null   object \n",
      " 17  free_cancel_flag    6502 non-null   int64  \n",
      " 18  no_prepayment_flag  6502 non-null   int64  \n",
      " 19  single              6502 non-null   int64  \n",
      " 20  double              6502 non-null   int64  \n",
      " 21  queen               6502 non-null   int64  \n",
      " 22  king                6502 non-null   int64  \n",
      " 23  extra_large         6502 non-null   int64  \n",
      " 24  sofa                6502 non-null   int64  \n",
      " 25  bunk                6502 non-null   int64  \n",
      " 26  free_wifi           6502 non-null   int64  \n",
      " 27  free_parking        6502 non-null   int64  \n",
      " 28  breakfast           6502 non-null   int64  \n",
      " 29  room_service        6502 non-null   int64  \n",
      " 30  bar                 6502 non-null   int64  \n",
      " 31  airport_shuttle     6502 non-null   int64  \n",
      " 32  restaurant          6502 non-null   int64  \n",
      " 33  pool                6502 non-null   int64  \n",
      " 34  family_rooms        6502 non-null   int64  \n",
      " 35  other_facility      6502 non-null   int64  \n",
      " 36  Staff               6502 non-null   float64\n",
      " 37  Cleanliness         6502 non-null   float64\n",
      " 38  Free_WiFi           6502 non-null   float64\n",
      " 39  Location            6502 non-null   float64\n",
      " 40  Facilities          6502 non-null   float64\n",
      " 41  Comfort             6502 non-null   float64\n",
      " 42  Value_for_money     6502 non-null   float64\n",
      " 43  location_type       6502 non-null   object \n",
      " 44  Hill                6502 non-null   int64  \n",
      " 45  Metro               6502 non-null   int64  \n",
      "dtypes: float64(9), int64(23), object(14)\n",
      "memory usage: 2.3+ MB\n"
     ]
    }
   ],
   "source": [
    "hotels.info()"
   ]
  },
  {
   "cell_type": "code",
   "execution_count": 50,
   "id": "6cd47959",
   "metadata": {
    "execution": {
     "iopub.execute_input": "2025-07-29T17:46:46.572838Z",
     "iopub.status.busy": "2025-07-29T17:46:46.572553Z",
     "iopub.status.idle": "2025-07-29T17:46:47.731223Z",
     "shell.execute_reply": "2025-07-29T17:46:47.730454Z"
    },
    "papermill": {
     "duration": 1.175795,
     "end_time": "2025-07-29T17:46:47.732991",
     "exception": false,
     "start_time": "2025-07-29T17:46:46.557196",
     "status": "completed"
    },
    "tags": []
   },
   "outputs": [],
   "source": [
    "def parse_room(room_type):\n",
    "    counts = {\n",
    "        'double_room' : 0,\n",
    "        'villa_room' : 0,\n",
    "        'deluxe_room' : 0,\n",
    "        'family_room' : 0,\n",
    "        'queen_room' : 0,\n",
    "        'king_room' : 0,\n",
    "        'other_room' : 0\n",
    "        \n",
    "    }\n",
    "    \n",
    "    if \"Villa\" in room_type:\n",
    "        counts['villa_room'] = 1\n",
    "    if \"Family\" in room_type:\n",
    "        counts[\"family_room\"] = 1\n",
    "    if \"Deluxe\" in room_type:\n",
    "        counts[\"deluxe_room\"] = 1\n",
    "    if \"Queen\" in room_type:\n",
    "        counts['queen_room'] = 1\n",
    "    if \"King\" in room_type:\n",
    "        counts['king_room'] = 1\n",
    "    if \"Double\" in room_type:\n",
    "        counts['double_room'] = 1\n",
    "    else:\n",
    "        counts['other_room'] = 1\n",
    "    \n",
    "    return pd.Series(counts)\n",
    "\n",
    "room_type_df = hotels['room_type'].apply(parse_room)"
   ]
  },
  {
   "cell_type": "code",
   "execution_count": 51,
   "id": "bbf92551",
   "metadata": {
    "execution": {
     "iopub.execute_input": "2025-07-29T17:46:47.763576Z",
     "iopub.status.busy": "2025-07-29T17:46:47.763182Z",
     "iopub.status.idle": "2025-07-29T17:46:47.772961Z",
     "shell.execute_reply": "2025-07-29T17:46:47.772192Z"
    },
    "papermill": {
     "duration": 0.026638,
     "end_time": "2025-07-29T17:46:47.774526",
     "exception": false,
     "start_time": "2025-07-29T17:46:47.747888",
     "status": "completed"
    },
    "tags": []
   },
   "outputs": [],
   "source": [
    "hotels = pd.concat([hotels, room_type_df], axis=1)"
   ]
  },
  {
   "cell_type": "code",
   "execution_count": 52,
   "id": "16f07a97",
   "metadata": {
    "execution": {
     "iopub.execute_input": "2025-07-29T17:46:47.804927Z",
     "iopub.status.busy": "2025-07-29T17:46:47.804625Z",
     "iopub.status.idle": "2025-07-29T17:46:47.810607Z",
     "shell.execute_reply": "2025-07-29T17:46:47.809933Z"
    },
    "papermill": {
     "duration": 0.022603,
     "end_time": "2025-07-29T17:46:47.811841",
     "exception": false,
     "start_time": "2025-07-29T17:46:47.789238",
     "status": "completed"
    },
    "tags": []
   },
   "outputs": [
    {
     "data": {
      "text/plain": [
       "np.float64(36.97616118117502)"
      ]
     },
     "execution_count": 52,
     "metadata": {},
     "output_type": "execute_result"
    }
   ],
   "source": [
    "np.mean(hotels['review_count'])"
   ]
  },
  {
   "cell_type": "code",
   "execution_count": 53,
   "id": "9fdc446e",
   "metadata": {
    "execution": {
     "iopub.execute_input": "2025-07-29T17:46:47.843004Z",
     "iopub.status.busy": "2025-07-29T17:46:47.842324Z",
     "iopub.status.idle": "2025-07-29T17:46:47.847275Z",
     "shell.execute_reply": "2025-07-29T17:46:47.846637Z"
    },
    "papermill": {
     "duration": 0.022039,
     "end_time": "2025-07-29T17:46:47.848776",
     "exception": false,
     "start_time": "2025-07-29T17:46:47.826737",
     "status": "completed"
    },
    "tags": []
   },
   "outputs": [],
   "source": [
    "hotels['review_count'] = np.where(hotels['review_count'] == -1, 37, hotels['review_count'])"
   ]
  },
  {
   "cell_type": "code",
   "execution_count": 54,
   "id": "bbad3bd1",
   "metadata": {
    "execution": {
     "iopub.execute_input": "2025-07-29T17:46:47.880237Z",
     "iopub.status.busy": "2025-07-29T17:46:47.879587Z",
     "iopub.status.idle": "2025-07-29T17:46:47.885289Z",
     "shell.execute_reply": "2025-07-29T17:46:47.884601Z"
    },
    "papermill": {
     "duration": 0.022848,
     "end_time": "2025-07-29T17:46:47.886606",
     "exception": false,
     "start_time": "2025-07-29T17:46:47.863758",
     "status": "completed"
    },
    "tags": []
   },
   "outputs": [
    {
     "data": {
      "text/plain": [
       "np.float64(3.1147185481390345)"
      ]
     },
     "execution_count": 54,
     "metadata": {},
     "output_type": "execute_result"
    }
   ],
   "source": [
    "np.mean(hotels['review'])"
   ]
  },
  {
   "cell_type": "code",
   "execution_count": 55,
   "id": "39611e78",
   "metadata": {
    "execution": {
     "iopub.execute_input": "2025-07-29T17:46:47.917246Z",
     "iopub.status.busy": "2025-07-29T17:46:47.916976Z",
     "iopub.status.idle": "2025-07-29T17:46:47.921814Z",
     "shell.execute_reply": "2025-07-29T17:46:47.921113Z"
    },
    "papermill": {
     "duration": 0.021739,
     "end_time": "2025-07-29T17:46:47.923181",
     "exception": false,
     "start_time": "2025-07-29T17:46:47.901442",
     "status": "completed"
    },
    "tags": []
   },
   "outputs": [],
   "source": [
    "hotels['review'] = np.where(hotels['review'] == -1, 3.1, hotels['review'])"
   ]
  },
  {
   "cell_type": "markdown",
   "id": "572817e0",
   "metadata": {
    "execution": {
     "iopub.execute_input": "2025-07-29T15:23:25.579754Z",
     "iopub.status.busy": "2025-07-29T15:23:25.579387Z",
     "iopub.status.idle": "2025-07-29T15:23:25.583811Z",
     "shell.execute_reply": "2025-07-29T15:23:25.582851Z",
     "shell.execute_reply.started": "2025-07-29T15:23:25.579727Z"
    },
    "papermill": {
     "duration": 0.014309,
     "end_time": "2025-07-29T17:46:47.952316",
     "exception": false,
     "start_time": "2025-07-29T17:46:47.938007",
     "status": "completed"
    },
    "tags": []
   },
   "source": [
    "# EDA"
   ]
  },
  {
   "cell_type": "code",
   "execution_count": 56,
   "id": "e2f6e276",
   "metadata": {
    "execution": {
     "iopub.execute_input": "2025-07-29T17:46:47.982587Z",
     "iopub.status.busy": "2025-07-29T17:46:47.981935Z",
     "iopub.status.idle": "2025-07-29T17:46:47.998552Z",
     "shell.execute_reply": "2025-07-29T17:46:47.997612Z"
    },
    "papermill": {
     "duration": 0.033464,
     "end_time": "2025-07-29T17:46:48.000155",
     "exception": false,
     "start_time": "2025-07-29T17:46:47.966691",
     "status": "completed"
    },
    "tags": []
   },
   "outputs": [
    {
     "name": "stdout",
     "output_type": "stream",
     "text": [
      "<class 'pandas.core.frame.DataFrame'>\n",
      "Index: 6502 entries, 0 to 6523\n",
      "Data columns (total 53 columns):\n",
      " #   Column              Non-Null Count  Dtype  \n",
      "---  ------              --------------  -----  \n",
      " 0   name                6502 non-null   object \n",
      " 1   room_type           6502 non-null   object \n",
      " 2   cancel_type         5635 non-null   object \n",
      " 3   paymentType         3953 non-null   object \n",
      " 4   bed_type            6470 non-null   object \n",
      " 5   price               6502 non-null   int64  \n",
      " 6   review              6502 non-null   float64\n",
      " 7   review_count        6502 non-null   int64  \n",
      " 8   distance            6502 non-null   float64\n",
      " 9   address             6502 non-null   object \n",
      " 10  checkin             6502 non-null   object \n",
      " 11  checkout            6502 non-null   object \n",
      " 12  city                6502 non-null   object \n",
      " 13  review_score        6502 non-null   object \n",
      " 14  facility            6502 non-null   object \n",
      " 15  checkIn_time        2984 non-null   object \n",
      " 16  checkOut_time       1055 non-null   object \n",
      " 17  free_cancel_flag    6502 non-null   int64  \n",
      " 18  no_prepayment_flag  6502 non-null   int64  \n",
      " 19  single              6502 non-null   int64  \n",
      " 20  double              6502 non-null   int64  \n",
      " 21  queen               6502 non-null   int64  \n",
      " 22  king                6502 non-null   int64  \n",
      " 23  extra_large         6502 non-null   int64  \n",
      " 24  sofa                6502 non-null   int64  \n",
      " 25  bunk                6502 non-null   int64  \n",
      " 26  free_wifi           6502 non-null   int64  \n",
      " 27  free_parking        6502 non-null   int64  \n",
      " 28  breakfast           6502 non-null   int64  \n",
      " 29  room_service        6502 non-null   int64  \n",
      " 30  bar                 6502 non-null   int64  \n",
      " 31  airport_shuttle     6502 non-null   int64  \n",
      " 32  restaurant          6502 non-null   int64  \n",
      " 33  pool                6502 non-null   int64  \n",
      " 34  family_rooms        6502 non-null   int64  \n",
      " 35  other_facility      6502 non-null   int64  \n",
      " 36  Staff               6502 non-null   float64\n",
      " 37  Cleanliness         6502 non-null   float64\n",
      " 38  Free_WiFi           6502 non-null   float64\n",
      " 39  Location            6502 non-null   float64\n",
      " 40  Facilities          6502 non-null   float64\n",
      " 41  Comfort             6502 non-null   float64\n",
      " 42  Value_for_money     6502 non-null   float64\n",
      " 43  location_type       6502 non-null   object \n",
      " 44  Hill                6502 non-null   int64  \n",
      " 45  Metro               6502 non-null   int64  \n",
      " 46  double_room         6502 non-null   int64  \n",
      " 47  villa_room          6502 non-null   int64  \n",
      " 48  deluxe_room         6502 non-null   int64  \n",
      " 49  family_room         6502 non-null   int64  \n",
      " 50  queen_room          6502 non-null   int64  \n",
      " 51  king_room           6502 non-null   int64  \n",
      " 52  other_room          6502 non-null   int64  \n",
      "dtypes: float64(9), int64(30), object(14)\n",
      "memory usage: 2.7+ MB\n"
     ]
    }
   ],
   "source": [
    "hotels.info()"
   ]
  },
  {
   "cell_type": "markdown",
   "id": "e2e71858",
   "metadata": {
    "papermill": {
     "duration": 0.01453,
     "end_time": "2025-07-29T17:46:48.029559",
     "exception": false,
     "start_time": "2025-07-29T17:46:48.015029",
     "status": "completed"
    },
    "tags": []
   },
   "source": [
    "## Feature Target relationship"
   ]
  },
  {
   "cell_type": "code",
   "execution_count": 57,
   "id": "b212cb3c",
   "metadata": {
    "execution": {
     "iopub.execute_input": "2025-07-29T17:46:48.060396Z",
     "iopub.status.busy": "2025-07-29T17:46:48.060065Z",
     "iopub.status.idle": "2025-07-29T17:46:48.064033Z",
     "shell.execute_reply": "2025-07-29T17:46:48.063205Z"
    },
    "papermill": {
     "duration": 0.02128,
     "end_time": "2025-07-29T17:46:48.065472",
     "exception": false,
     "start_time": "2025-07-29T17:46:48.044192",
     "status": "completed"
    },
    "tags": []
   },
   "outputs": [],
   "source": [
    "# price graph based on location_type"
   ]
  },
  {
   "cell_type": "code",
   "execution_count": 58,
   "id": "7d485f5d",
   "metadata": {
    "execution": {
     "iopub.execute_input": "2025-07-29T17:46:48.097002Z",
     "iopub.status.busy": "2025-07-29T17:46:48.096188Z",
     "iopub.status.idle": "2025-07-29T17:46:48.402202Z",
     "shell.execute_reply": "2025-07-29T17:46:48.401380Z"
    },
    "papermill": {
     "duration": 0.32309,
     "end_time": "2025-07-29T17:46:48.403657",
     "exception": false,
     "start_time": "2025-07-29T17:46:48.080567",
     "status": "completed"
    },
    "tags": []
   },
   "outputs": [
    {
     "data": {
      "text/plain": [
       "<Axes: xlabel='location_type'>"
      ]
     },
     "execution_count": 58,
     "metadata": {},
     "output_type": "execute_result"
    },
    {
     "data": {
      "image/png": "[encoded data removed]",
      "text/plain": [
       "<Figure size 640x480 with 1 Axes>"
      ]
     },
     "metadata": {},
     "output_type": "display_data"
    }
   ],
   "source": [
    "hotels.groupby('location_type')['price'].mean().plot.bar()"
   ]
  },
  {
   "cell_type": "markdown",
   "id": "e151cbfc",
   "metadata": {
    "papermill": {
     "duration": 0.014818,
     "end_time": "2025-07-29T17:46:48.433826",
     "exception": false,
     "start_time": "2025-07-29T17:46:48.419008",
     "status": "completed"
    },
    "tags": []
   },
   "source": [
    "No major price difference between location type"
   ]
  },
  {
   "cell_type": "code",
   "execution_count": 59,
   "id": "e3b1bb0e",
   "metadata": {
    "execution": {
     "iopub.execute_input": "2025-07-29T17:46:48.465116Z",
     "iopub.status.busy": "2025-07-29T17:46:48.464570Z",
     "iopub.status.idle": "2025-07-29T17:46:48.653532Z",
     "shell.execute_reply": "2025-07-29T17:46:48.652671Z"
    },
    "papermill": {
     "duration": 0.206279,
     "end_time": "2025-07-29T17:46:48.655012",
     "exception": false,
     "start_time": "2025-07-29T17:46:48.448733",
     "status": "completed"
    },
    "tags": []
   },
   "outputs": [
    {
     "data": {
      "text/plain": [
       "<Axes: xlabel='city'>"
      ]
     },
     "execution_count": 59,
     "metadata": {},
     "output_type": "execute_result"
    },
    {
     "data": {
      "image/png": "[encoded data removed]",
      "text/plain": [
       "<Figure size 640x480 with 1 Axes>"
      ]
     },
     "metadata": {},
     "output_type": "display_data"
    }
   ],
   "source": [
    "hotels.groupby('city')['price'].mean().plot.bar()"
   ]
  },
  {
   "cell_type": "markdown",
   "id": "4456cf5b",
   "metadata": {
    "papermill": {
     "duration": 0.015432,
     "end_time": "2025-07-29T17:46:48.686792",
     "exception": false,
     "start_time": "2025-07-29T17:46:48.671360",
     "status": "completed"
    },
    "tags": []
   },
   "source": [
    "Ooty has highest hotel price and Gokarna has lowest"
   ]
  },
  {
   "cell_type": "code",
   "execution_count": 60,
   "id": "c0540fdc",
   "metadata": {
    "execution": {
     "iopub.execute_input": "2025-07-29T17:46:48.719226Z",
     "iopub.status.busy": "2025-07-29T17:46:48.718925Z",
     "iopub.status.idle": "2025-07-29T17:46:48.855079Z",
     "shell.execute_reply": "2025-07-29T17:46:48.854256Z"
    },
    "papermill": {
     "duration": 0.15406,
     "end_time": "2025-07-29T17:46:48.856375",
     "exception": false,
     "start_time": "2025-07-29T17:46:48.702315",
     "status": "completed"
    },
    "tags": []
   },
   "outputs": [
    {
     "data": {
      "text/plain": [
       "<Axes: xlabel='no_prepayment_flag'>"
      ]
     },
     "execution_count": 60,
     "metadata": {},
     "output_type": "execute_result"
    },
    {
     "data": {
      "image/png": "[encoded data removed]",
      "text/plain": [
       "<Figure size 640x480 with 1 Axes>"
      ]
     },
     "metadata": {},
     "output_type": "display_data"
    }
   ],
   "source": [
    "hotels.groupby('no_prepayment_flag')['price'].mean().plot.bar()"
   ]
  },
  {
   "cell_type": "code",
   "execution_count": 61,
   "id": "be643d07",
   "metadata": {
    "execution": {
     "iopub.execute_input": "2025-07-29T17:46:48.890971Z",
     "iopub.status.busy": "2025-07-29T17:46:48.890208Z",
     "iopub.status.idle": "2025-07-29T17:46:49.025289Z",
     "shell.execute_reply": "2025-07-29T17:46:49.024467Z"
    },
    "papermill": {
     "duration": 0.153902,
     "end_time": "2025-07-29T17:46:49.026782",
     "exception": false,
     "start_time": "2025-07-29T17:46:48.872880",
     "status": "completed"
    },
    "tags": []
   },
   "outputs": [
    {
     "data": {
      "text/plain": [
       "<Axes: xlabel='free_cancel_flag'>"
      ]
     },
     "execution_count": 61,
     "metadata": {},
     "output_type": "execute_result"
    },
    {
     "data": {
      "image/png": "[encoded data removed]",
      "text/plain": [
       "<Figure size 640x480 with 1 Axes>"
      ]
     },
     "metadata": {},
     "output_type": "display_data"
    }
   ],
   "source": [
    "hotels.groupby('free_cancel_flag')['price'].mean().plot.bar()"
   ]
  },
  {
   "cell_type": "code",
   "execution_count": 62,
   "id": "7c02375f",
   "metadata": {
    "execution": {
     "iopub.execute_input": "2025-07-29T17:46:49.061857Z",
     "iopub.status.busy": "2025-07-29T17:46:49.061131Z",
     "iopub.status.idle": "2025-07-29T17:46:49.068145Z",
     "shell.execute_reply": "2025-07-29T17:46:49.067397Z"
    },
    "papermill": {
     "duration": 0.025861,
     "end_time": "2025-07-29T17:46:49.069509",
     "exception": false,
     "start_time": "2025-07-29T17:46:49.043648",
     "status": "completed"
    },
    "tags": []
   },
   "outputs": [],
   "source": [
    "hotels[\"hotels_facility_count\"] =  hotels['free_wifi'] + hotels['free_parking'] + hotels['breakfast'] + hotels['room_service'] + hotels['bar'] + hotels['airport_shuttle'] + hotels['restaurant'] + hotels['pool'] + hotels['family_rooms'] + hotels['other_facility']"
   ]
  },
  {
   "cell_type": "code",
   "execution_count": 63,
   "id": "63c7c212",
   "metadata": {
    "execution": {
     "iopub.execute_input": "2025-07-29T17:46:49.104128Z",
     "iopub.status.busy": "2025-07-29T17:46:49.103826Z",
     "iopub.status.idle": "2025-07-29T17:46:49.273898Z",
     "shell.execute_reply": "2025-07-29T17:46:49.272707Z"
    },
    "papermill": {
     "duration": 0.188987,
     "end_time": "2025-07-29T17:46:49.275461",
     "exception": false,
     "start_time": "2025-07-29T17:46:49.086474",
     "status": "completed"
    },
    "tags": []
   },
   "outputs": [
    {
     "data": {
      "text/plain": [
       "<Axes: xlabel='hotels_facility_count'>"
      ]
     },
     "execution_count": 63,
     "metadata": {},
     "output_type": "execute_result"
    },
    {
     "data": {
      "image/png": "[encoded data removed]",
      "text/plain": [
       "<Figure size 640x480 with 1 Axes>"
      ]
     },
     "metadata": {},
     "output_type": "display_data"
    }
   ],
   "source": [
    "hotels.groupby('hotels_facility_count')['price'].mean().plot.bar()"
   ]
  },
  {
   "cell_type": "code",
   "execution_count": 64,
   "id": "6bdf1f13",
   "metadata": {
    "execution": {
     "iopub.execute_input": "2025-07-29T17:46:49.312017Z",
     "iopub.status.busy": "2025-07-29T17:46:49.311707Z",
     "iopub.status.idle": "2025-07-29T17:46:49.317155Z",
     "shell.execute_reply": "2025-07-29T17:46:49.316326Z"
    },
    "papermill": {
     "duration": 0.025245,
     "end_time": "2025-07-29T17:46:49.318710",
     "exception": false,
     "start_time": "2025-07-29T17:46:49.293465",
     "status": "completed"
    },
    "tags": []
   },
   "outputs": [],
   "source": [
    "# detecting outlier in price\n",
    "\n",
    "def remove_outlier(key):\n",
    "    Q1 = hotels[key].quantile(0.25)\n",
    "    Q3 = hotels[key].quantile(0.75)\n",
    "    IQR = Q3 - Q1\n",
    "    \n",
    "    outliers = hotels[(hotels[key] < Q1 - 1.5 * IQR) | (hotels[key] > Q3 + 1.5 * IQR)]\n",
    "    print(outliers[[key]])\n",
    "    # replacing price with boundary value\n",
    "    \n",
    "    lower = Q1 - 1.5 * IQR\n",
    "    upper = Q3 + 1.5 * IQR\n",
    "    hotels[key] = hotels[key].clip(lower, upper)"
   ]
  },
  {
   "cell_type": "code",
   "execution_count": 65,
   "id": "5c98803e",
   "metadata": {
    "execution": {
     "iopub.execute_input": "2025-07-29T17:46:49.354392Z",
     "iopub.status.busy": "2025-07-29T17:46:49.354096Z",
     "iopub.status.idle": "2025-07-29T17:46:49.368070Z",
     "shell.execute_reply": "2025-07-29T17:46:49.366971Z"
    },
    "papermill": {
     "duration": 0.033438,
     "end_time": "2025-07-29T17:46:49.369447",
     "exception": false,
     "start_time": "2025-07-29T17:46:49.336009",
     "status": "completed"
    },
    "tags": []
   },
   "outputs": [
    {
     "name": "stdout",
     "output_type": "stream",
     "text": [
      "       price\n",
      "111   138000\n",
      "176   101916\n",
      "185   106500\n",
      "224   240000\n",
      "227   108000\n",
      "...      ...\n",
      "5936   84150\n",
      "5944   90265\n",
      "5958   76252\n",
      "5984   70195\n",
      "5997   82200\n",
      "\n",
      "[486 rows x 1 columns]\n"
     ]
    }
   ],
   "source": [
    "remove_outlier('price')"
   ]
  },
  {
   "cell_type": "code",
   "execution_count": 66,
   "id": "65ae066f",
   "metadata": {
    "execution": {
     "iopub.execute_input": "2025-07-29T17:46:49.405368Z",
     "iopub.status.busy": "2025-07-29T17:46:49.405062Z",
     "iopub.status.idle": "2025-07-29T17:46:49.414889Z",
     "shell.execute_reply": "2025-07-29T17:46:49.413964Z"
    },
    "papermill": {
     "duration": 0.029575,
     "end_time": "2025-07-29T17:46:49.416430",
     "exception": false,
     "start_time": "2025-07-29T17:46:49.386855",
     "status": "completed"
    },
    "tags": []
   },
   "outputs": [
    {
     "name": "stdout",
     "output_type": "stream",
     "text": [
      "Empty DataFrame\n",
      "Columns: [review]\n",
      "Index: []\n"
     ]
    }
   ],
   "source": [
    "remove_outlier('review')"
   ]
  },
  {
   "cell_type": "code",
   "execution_count": 67,
   "id": "e696e90b",
   "metadata": {
    "execution": {
     "iopub.execute_input": "2025-07-29T17:46:49.452667Z",
     "iopub.status.busy": "2025-07-29T17:46:49.452337Z",
     "iopub.status.idle": "2025-07-29T17:46:49.463873Z",
     "shell.execute_reply": "2025-07-29T17:46:49.462879Z"
    },
    "papermill": {
     "duration": 0.031296,
     "end_time": "2025-07-29T17:46:49.465476",
     "exception": false,
     "start_time": "2025-07-29T17:46:49.434180",
     "status": "completed"
    },
    "tags": []
   },
   "outputs": [
    {
     "name": "stdout",
     "output_type": "stream",
     "text": [
      "      review_count\n",
      "1              385\n",
      "3               58\n",
      "5               57\n",
      "6                2\n",
      "7                5\n",
      "...            ...\n",
      "3928             3\n",
      "3932             2\n",
      "3934             1\n",
      "3943             1\n",
      "3945             1\n",
      "\n",
      "[2220 rows x 1 columns]\n"
     ]
    }
   ],
   "source": [
    "remove_outlier('review_count')"
   ]
  },
  {
   "cell_type": "code",
   "execution_count": 68,
   "id": "1b65e261",
   "metadata": {
    "execution": {
     "iopub.execute_input": "2025-07-29T17:46:49.501854Z",
     "iopub.status.busy": "2025-07-29T17:46:49.501540Z",
     "iopub.status.idle": "2025-07-29T17:46:49.512931Z",
     "shell.execute_reply": "2025-07-29T17:46:49.511904Z"
    },
    "papermill": {
     "duration": 0.031472,
     "end_time": "2025-07-29T17:46:49.514465",
     "exception": false,
     "start_time": "2025-07-29T17:46:49.482993",
     "status": "completed"
    },
    "tags": []
   },
   "outputs": [
    {
     "name": "stdout",
     "output_type": "stream",
     "text": [
      "      distance\n",
      "182       20.6\n",
      "214       22.6\n",
      "311       22.1\n",
      "1466      23.8\n",
      "1512      20.3\n",
      "...        ...\n",
      "5732      20.8\n",
      "5753      21.1\n",
      "5991      19.6\n",
      "6360      19.6\n",
      "6379      19.6\n",
      "\n",
      "[166 rows x 1 columns]\n"
     ]
    }
   ],
   "source": [
    "remove_outlier('distance')"
   ]
  },
  {
   "cell_type": "code",
   "execution_count": 69,
   "id": "57eaae8a",
   "metadata": {
    "execution": {
     "iopub.execute_input": "2025-07-29T17:46:49.550577Z",
     "iopub.status.busy": "2025-07-29T17:46:49.550246Z",
     "iopub.status.idle": "2025-07-29T17:46:49.559143Z",
     "shell.execute_reply": "2025-07-29T17:46:49.558456Z"
    },
    "papermill": {
     "duration": 0.028203,
     "end_time": "2025-07-29T17:46:49.560343",
     "exception": false,
     "start_time": "2025-07-29T17:46:49.532140",
     "status": "completed"
    },
    "tags": []
   },
   "outputs": [
    {
     "data": {
      "text/plain": [
       "count    6502.000000\n",
       "mean        6.671363\n",
       "std         4.963274\n",
       "min         0.003200\n",
       "25%         2.400000\n",
       "50%         6.750000\n",
       "75%         9.200000\n",
       "max        19.400000\n",
       "Name: distance, dtype: float64"
      ]
     },
     "execution_count": 69,
     "metadata": {},
     "output_type": "execute_result"
    }
   ],
   "source": [
    "hotels['distance'].describe()"
   ]
  },
  {
   "cell_type": "code",
   "execution_count": 70,
   "id": "fcdd29dc",
   "metadata": {
    "execution": {
     "iopub.execute_input": "2025-07-29T17:46:49.597140Z",
     "iopub.status.busy": "2025-07-29T17:46:49.596759Z",
     "iopub.status.idle": "2025-07-29T17:46:49.605718Z",
     "shell.execute_reply": "2025-07-29T17:46:49.605052Z"
    },
    "papermill": {
     "duration": 0.028896,
     "end_time": "2025-07-29T17:46:49.607029",
     "exception": false,
     "start_time": "2025-07-29T17:46:49.578133",
     "status": "completed"
    },
    "tags": []
   },
   "outputs": [],
   "source": [
    "# binning distance prioritizing short distance over long\n",
    "\n",
    "bins = [0, 2, 4, 9, 20]\n",
    "labels = [4, 3, 2, 1]\n",
    "hotels['distance_category'] = pd.cut(hotels['distance'], bins=bins, labels=labels)"
   ]
  },
  {
   "cell_type": "code",
   "execution_count": 71,
   "id": "74b8b3d3",
   "metadata": {
    "execution": {
     "iopub.execute_input": "2025-07-29T17:46:49.646285Z",
     "iopub.status.busy": "2025-07-29T17:46:49.645983Z",
     "iopub.status.idle": "2025-07-29T17:46:49.659238Z",
     "shell.execute_reply": "2025-07-29T17:46:49.658463Z"
    },
    "papermill": {
     "duration": 0.035374,
     "end_time": "2025-07-29T17:46:49.660610",
     "exception": false,
     "start_time": "2025-07-29T17:46:49.625236",
     "status": "completed"
    },
    "tags": []
   },
   "outputs": [
    {
     "data": {
      "text/html": [
       "<div>\n",
       "<style scoped>\n",
       "    .dataframe tbody tr th:only-of-type {\n",
       "        vertical-align: middle;\n",
       "    }\n",
       "\n",
       "    .dataframe tbody tr th {\n",
       "        vertical-align: top;\n",
       "    }\n",
       "\n",
       "    .dataframe thead th {\n",
       "        text-align: right;\n",
       "    }\n",
       "</style>\n",
       "<table border=\"1\" class=\"dataframe\">\n",
       "  <thead>\n",
       "    <tr style=\"text-align: right;\">\n",
       "      <th></th>\n",
       "      <th>name</th>\n",
       "      <th>room_type</th>\n",
       "      <th>cancel_type</th>\n",
       "      <th>paymentType</th>\n",
       "      <th>bed_type</th>\n",
       "      <th>price</th>\n",
       "      <th>review</th>\n",
       "      <th>review_count</th>\n",
       "      <th>distance</th>\n",
       "      <th>address</th>\n",
       "      <th>...</th>\n",
       "      <th>Metro</th>\n",
       "      <th>double_room</th>\n",
       "      <th>villa_room</th>\n",
       "      <th>deluxe_room</th>\n",
       "      <th>family_room</th>\n",
       "      <th>queen_room</th>\n",
       "      <th>king_room</th>\n",
       "      <th>other_room</th>\n",
       "      <th>hotels_facility_count</th>\n",
       "      <th>distance_category</th>\n",
       "    </tr>\n",
       "  </thead>\n",
       "  <tbody>\n",
       "  </tbody>\n",
       "</table>\n",
       "<p>0 rows × 55 columns</p>\n",
       "</div>"
      ],
      "text/plain": [
       "Empty DataFrame\n",
       "Columns: [name, room_type, cancel_type, paymentType, bed_type, price, review, review_count, distance, address, checkin, checkout, city, review_score, facility, checkIn_time, checkOut_time, free_cancel_flag, no_prepayment_flag, single, double, queen, king, extra_large, sofa, bunk, free_wifi, free_parking, breakfast, room_service, bar, airport_shuttle, restaurant, pool, family_rooms, other_facility, Staff, Cleanliness, Free_WiFi, Location, Facilities, Comfort, Value_for_money, location_type, Hill, Metro, double_room, villa_room, deluxe_room, family_room, queen_room, king_room, other_room, hotels_facility_count, distance_category]\n",
       "Index: []\n",
       "\n",
       "[0 rows x 55 columns]"
      ]
     },
     "execution_count": 71,
     "metadata": {},
     "output_type": "execute_result"
    }
   ],
   "source": [
    "hotels[hotels['distance_category'].isna()]"
   ]
  },
  {
   "cell_type": "code",
   "execution_count": 72,
   "id": "fe158c9e",
   "metadata": {
    "execution": {
     "iopub.execute_input": "2025-07-29T17:46:49.698262Z",
     "iopub.status.busy": "2025-07-29T17:46:49.697968Z",
     "iopub.status.idle": "2025-07-29T17:46:49.837655Z",
     "shell.execute_reply": "2025-07-29T17:46:49.836756Z"
    },
    "papermill": {
     "duration": 0.160003,
     "end_time": "2025-07-29T17:46:49.839001",
     "exception": false,
     "start_time": "2025-07-29T17:46:49.678998",
     "status": "completed"
    },
    "tags": []
   },
   "outputs": [
    {
     "name": "stderr",
     "output_type": "stream",
     "text": [
      "/var/folders/mg/s0_mb30d0k1brm1ws34ktsy40000gn/T/ipykernel_16657/1332527756.py:1: FutureWarning: The default of observed=False is deprecated and will be changed to True in a future version of pandas. Pass observed=False to retain current behavior or observed=True to adopt the future default and silence this warning.\n",
      "  hotels.groupby('distance_category')['price'].mean().plot.bar()\n"
     ]
    },
    {
     "data": {
      "text/plain": [
       "<Axes: xlabel='distance_category'>"
      ]
     },
     "execution_count": 72,
     "metadata": {},
     "output_type": "execute_result"
    },
    {
     "data": {
      "image/png": "[encoded data removed]",
      "text/plain": [
       "<Figure size 640x480 with 1 Axes>"
      ]
     },
     "metadata": {},
     "output_type": "display_data"
    }
   ],
   "source": [
    "hotels.groupby('distance_category')['price'].mean().plot.bar()"
   ]
  },
  {
   "cell_type": "code",
   "execution_count": 73,
   "id": "79ea4feb",
   "metadata": {
    "execution": {
     "iopub.execute_input": "2025-07-29T17:46:49.876536Z",
     "iopub.status.busy": "2025-07-29T17:46:49.876200Z",
     "iopub.status.idle": "2025-07-29T17:46:51.835938Z",
     "shell.execute_reply": "2025-07-29T17:46:51.834989Z"
    },
    "papermill": {
     "duration": 1.981693,
     "end_time": "2025-07-29T17:46:51.838901",
     "exception": false,
     "start_time": "2025-07-29T17:46:49.857208",
     "status": "completed"
    },
    "tags": []
   },
   "outputs": [
    {
     "data": {
      "text/plain": [
       "<Axes: xlabel='distance', ylabel='price'>"
      ]
     },
     "execution_count": 73,
     "metadata": {},
     "output_type": "execute_result"
    },
    {
     "data": {
      "image/png": "[encoded data removed]",
      "text/plain": [
       "<Figure size 640x480 with 1 Axes>"
      ]
     },
     "metadata": {},
     "output_type": "display_data"
    }
   ],
   "source": [
    "import seaborn as sns\n",
    "sns.scatterplot(x=hotels['distance'], y=hotels['price'])"
   ]
  },
  {
   "cell_type": "code",
   "execution_count": 74,
   "id": "f9a798e1",
   "metadata": {
    "execution": {
     "iopub.execute_input": "2025-07-29T17:46:51.885341Z",
     "iopub.status.busy": "2025-07-29T17:46:51.884515Z",
     "iopub.status.idle": "2025-07-29T17:46:52.085563Z",
     "shell.execute_reply": "2025-07-29T17:46:52.084684Z"
    },
    "papermill": {
     "duration": 0.225348,
     "end_time": "2025-07-29T17:46:52.086967",
     "exception": false,
     "start_time": "2025-07-29T17:46:51.861619",
     "status": "completed"
    },
    "tags": []
   },
   "outputs": [
    {
     "data": {
      "text/plain": [
       "<Axes: xlabel='distance_category', ylabel='Count'>"
      ]
     },
     "execution_count": 74,
     "metadata": {},
     "output_type": "execute_result"
    },
    {
     "data": {
      "image/png": "[encoded data removed]",
      "text/plain": [
       "<Figure size 640x480 with 1 Axes>"
      ]
     },
     "metadata": {},
     "output_type": "display_data"
    }
   ],
   "source": [
    "sns.histplot(hotels[\"distance_category\"])"
   ]
  },
  {
   "cell_type": "code",
   "execution_count": 75,
   "id": "72086a8a",
   "metadata": {
    "execution": {
     "iopub.execute_input": "2025-07-29T17:46:52.134815Z",
     "iopub.status.busy": "2025-07-29T17:46:52.134252Z",
     "iopub.status.idle": "2025-07-29T17:46:52.370491Z",
     "shell.execute_reply": "2025-07-29T17:46:52.369714Z"
    },
    "papermill": {
     "duration": 0.263416,
     "end_time": "2025-07-29T17:46:52.373167",
     "exception": false,
     "start_time": "2025-07-29T17:46:52.109751",
     "status": "completed"
    },
    "tags": []
   },
   "outputs": [
    {
     "data": {
      "text/plain": [
       "<Axes: xlabel='review', ylabel='price'>"
      ]
     },
     "execution_count": 75,
     "metadata": {},
     "output_type": "execute_result"
    },
    {
     "data": {
      "image/png": "[encoded data removed]",
      "text/plain": [
       "<Figure size 640x480 with 1 Axes>"
      ]
     },
     "metadata": {},
     "output_type": "display_data"
    }
   ],
   "source": [
    "sns.scatterplot(x=hotels['review'], y=hotels['price'])"
   ]
  },
  {
   "cell_type": "code",
   "execution_count": 76,
   "id": "175e9fa0",
   "metadata": {
    "execution": {
     "iopub.execute_input": "2025-07-29T17:46:52.422633Z",
     "iopub.status.busy": "2025-07-29T17:46:52.421864Z",
     "iopub.status.idle": "2025-07-29T17:46:52.637059Z",
     "shell.execute_reply": "2025-07-29T17:46:52.636132Z"
    },
    "papermill": {
     "duration": 0.241046,
     "end_time": "2025-07-29T17:46:52.638602",
     "exception": false,
     "start_time": "2025-07-29T17:46:52.397556",
     "status": "completed"
    },
    "tags": []
   },
   "outputs": [
    {
     "data": {
      "text/plain": [
       "<Axes: xlabel='price', ylabel='Count'>"
      ]
     },
     "execution_count": 76,
     "metadata": {},
     "output_type": "execute_result"
    },
    {
     "data": {
      "image/png": "[encoded data removed]",
      "text/plain": [
       "<Figure size 640x480 with 1 Axes>"
      ]
     },
     "metadata": {},
     "output_type": "display_data"
    }
   ],
   "source": [
    "sns.histplot(hotels[\"price\"])"
   ]
  },
  {
   "cell_type": "markdown",
   "id": "9cf2bf48",
   "metadata": {
    "papermill": {
     "duration": 0.023479,
     "end_time": "2025-07-29T17:46:52.686613",
     "exception": false,
     "start_time": "2025-07-29T17:46:52.663134",
     "status": "completed"
    },
    "tags": []
   },
   "source": [
    "## Takeaways from EDA"
   ]
  },
  {
   "cell_type": "markdown",
   "id": "b1ebabd2",
   "metadata": {
    "papermill": {
     "duration": 0.024031,
     "end_time": "2025-07-29T17:46:52.734813",
     "exception": false,
     "start_time": "2025-07-29T17:46:52.710782",
     "status": "completed"
    },
    "tags": []
   },
   "source": [
    "1. No major price difference between Location type -- Beach, Hill, Metro\n",
    "2. Ooty has highest hotels price while gokarna has lowest\n",
    "3. Hotels in which prepayment is not needed has more price than hotels in which pre payment is needed\n",
    "4. Hotels which has free cancellation has more price\n",
    "5. Hotels in which number of facilities is 7 has highest, weirdly hotels that has 8 facility has lowest price\n",
    "6. Price does not seem to be dependent on distance category\n",
    "7. Distance from 1.5 to 2.5 has most number of hotels\n",
    "8. Most of the high price hotels are in review > 4\n",
    "9. Removed some outliers in Price, Distance, Review Count by replacing with boundary value"
   ]
  },
  {
   "cell_type": "markdown",
   "id": "1cea5a9f",
   "metadata": {
    "papermill": {
     "duration": 0.023173,
     "end_time": "2025-07-29T17:46:52.781687",
     "exception": false,
     "start_time": "2025-07-29T17:46:52.758514",
     "status": "completed"
    },
    "tags": []
   },
   "source": [
    "## Modelling"
   ]
  },
  {
   "cell_type": "code",
   "execution_count": 77,
   "id": "cb765edd",
   "metadata": {
    "execution": {
     "iopub.execute_input": "2025-07-29T17:46:52.829594Z",
     "iopub.status.busy": "2025-07-29T17:46:52.829264Z",
     "iopub.status.idle": "2025-07-29T17:46:52.850172Z",
     "shell.execute_reply": "2025-07-29T17:46:52.849198Z"
    },
    "papermill": {
     "duration": 0.046765,
     "end_time": "2025-07-29T17:46:52.851746",
     "exception": false,
     "start_time": "2025-07-29T17:46:52.804981",
     "status": "completed"
    },
    "tags": []
   },
   "outputs": [
    {
     "name": "stdout",
     "output_type": "stream",
     "text": [
      "<class 'pandas.core.frame.DataFrame'>\n",
      "Index: 6502 entries, 0 to 6523\n",
      "Data columns (total 55 columns):\n",
      " #   Column                 Non-Null Count  Dtype   \n",
      "---  ------                 --------------  -----   \n",
      " 0   name                   6502 non-null   object  \n",
      " 1   room_type              6502 non-null   object  \n",
      " 2   cancel_type            5635 non-null   object  \n",
      " 3   paymentType            3953 non-null   object  \n",
      " 4   bed_type               6470 non-null   object  \n",
      " 5   price                  6502 non-null   int64   \n",
      " 6   review                 6502 non-null   float64 \n",
      " 7   review_count           6502 non-null   int64   \n",
      " 8   distance               6502 non-null   float64 \n",
      " 9   address                6502 non-null   object  \n",
      " 10  checkin                6502 non-null   object  \n",
      " 11  checkout               6502 non-null   object  \n",
      " 12  city                   6502 non-null   object  \n",
      " 13  review_score           6502 non-null   object  \n",
      " 14  facility               6502 non-null   object  \n",
      " 15  checkIn_time           2984 non-null   object  \n",
      " 16  checkOut_time          1055 non-null   object  \n",
      " 17  free_cancel_flag       6502 non-null   int64   \n",
      " 18  no_prepayment_flag     6502 non-null   int64   \n",
      " 19  single                 6502 non-null   int64   \n",
      " 20  double                 6502 non-null   int64   \n",
      " 21  queen                  6502 non-null   int64   \n",
      " 22  king                   6502 non-null   int64   \n",
      " 23  extra_large            6502 non-null   int64   \n",
      " 24  sofa                   6502 non-null   int64   \n",
      " 25  bunk                   6502 non-null   int64   \n",
      " 26  free_wifi              6502 non-null   int64   \n",
      " 27  free_parking           6502 non-null   int64   \n",
      " 28  breakfast              6502 non-null   int64   \n",
      " 29  room_service           6502 non-null   int64   \n",
      " 30  bar                    6502 non-null   int64   \n",
      " 31  airport_shuttle        6502 non-null   int64   \n",
      " 32  restaurant             6502 non-null   int64   \n",
      " 33  pool                   6502 non-null   int64   \n",
      " 34  family_rooms           6502 non-null   int64   \n",
      " 35  other_facility         6502 non-null   int64   \n",
      " 36  Staff                  6502 non-null   float64 \n",
      " 37  Cleanliness            6502 non-null   float64 \n",
      " 38  Free_WiFi              6502 non-null   float64 \n",
      " 39  Location               6502 non-null   float64 \n",
      " 40  Facilities             6502 non-null   float64 \n",
      " 41  Comfort                6502 non-null   float64 \n",
      " 42  Value_for_money        6502 non-null   float64 \n",
      " 43  location_type          6502 non-null   object  \n",
      " 44  Hill                   6502 non-null   int64   \n",
      " 45  Metro                  6502 non-null   int64   \n",
      " 46  double_room            6502 non-null   int64   \n",
      " 47  villa_room             6502 non-null   int64   \n",
      " 48  deluxe_room            6502 non-null   int64   \n",
      " 49  family_room            6502 non-null   int64   \n",
      " 50  queen_room             6502 non-null   int64   \n",
      " 51  king_room              6502 non-null   int64   \n",
      " 52  other_room             6502 non-null   int64   \n",
      " 53  hotels_facility_count  6502 non-null   int64   \n",
      " 54  distance_category      6502 non-null   category\n",
      "dtypes: category(1), float64(9), int64(31), object(14)\n",
      "memory usage: 2.7+ MB\n"
     ]
    }
   ],
   "source": [
    "hotels.info()"
   ]
  },
  {
   "cell_type": "code",
   "execution_count": 78,
   "id": "b661b2ad",
   "metadata": {
    "execution": {
     "iopub.execute_input": "2025-07-29T17:46:52.901187Z",
     "iopub.status.busy": "2025-07-29T17:46:52.900451Z",
     "iopub.status.idle": "2025-07-29T17:46:55.017939Z",
     "shell.execute_reply": "2025-07-29T17:46:55.016908Z"
    },
    "papermill": {
     "duration": 2.143927,
     "end_time": "2025-07-29T17:46:55.019592",
     "exception": false,
     "start_time": "2025-07-29T17:46:52.875665",
     "status": "completed"
    },
    "tags": []
   },
   "outputs": [],
   "source": [
    "import statsmodels.api as sm\n",
    "from sklearn.model_selection import train_test_split\n",
    "\n",
    "hotels = hotels.assign(\n",
    "    distance_2 = hotels[\"distance\"] ** 2,\n",
    "    distance_3 = hotels[\"distance\"] ** 3\n",
    ")\n",
    "\n",
    "hotels = hotels.assign(\n",
    "    Staff_2 = hotels[\"Staff\"] ** 2,\n",
    "    value_for_money_2 = hotels[\"Value_for_money\"] ** 2\n",
    ")\n",
    "\n",
    "hotels = hotels.assign(\n",
    "    total_bed = (\n",
    "        hotels['single'] + hotels['double'] + hotels['queen'] + hotels['king'] + hotels['extra_large'] +\n",
    "        hotels['sofa'] + hotels['bunk']\n",
    "    )\n",
    ")\n",
    "\n",
    "feature = ['no_prepayment_flag', 'distance', 'review',\n",
    "       'pool', 'Hill', 'Metro', 'Staff', 'Cleanliness', 'Value_for_money','distance_category',\n",
    "          'single', 'double', 'bunk', 'sofa', 'extra_large',\n",
    "          'room_service', 'bar', 'villa_room', 'deluxe_room', 'family_room', 'king_room', 'other_room',\n",
    "          'distance_2', 'distance_3', 'Staff_2', 'value_for_money_2']\n",
    "\n",
    "X3 = sm.add_constant(hotels[feature])\n",
    "y3 = np.log(hotels[\"price\"])\n",
    "\n",
    "X, X_test, y, y_test = train_test_split(X3, y3, test_size=.2, random_state=2023)"
   ]
  },
  {
   "cell_type": "code",
   "execution_count": 79,
   "id": "699b642b",
   "metadata": {
    "execution": {
     "iopub.execute_input": "2025-07-29T17:46:55.071304Z",
     "iopub.status.busy": "2025-07-29T17:46:55.070822Z",
     "iopub.status.idle": "2025-07-29T17:46:55.181196Z",
     "shell.execute_reply": "2025-07-29T17:46:55.180333Z"
    },
    "papermill": {
     "duration": 0.138988,
     "end_time": "2025-07-29T17:46:55.182659",
     "exception": false,
     "start_time": "2025-07-29T17:46:55.043671",
     "status": "completed"
    },
    "tags": []
   },
   "outputs": [
    {
     "data": {
      "text/html": [
       "<table class=\"simpletable\">\n",
       "<caption>OLS Regression Results</caption>\n",
       "<tr>\n",
       "  <th>Dep. Variable:</th>          <td>price</td>      <th>  R-squared:         </th> <td>   0.279</td>\n",
       "</tr>\n",
       "<tr>\n",
       "  <th>Model:</th>                   <td>OLS</td>       <th>  Adj. R-squared:    </th> <td>   0.276</td>\n",
       "</tr>\n",
       "<tr>\n",
       "  <th>Method:</th>             <td>Least Squares</td>  <th>  F-statistic:       </th> <td>   77.12</td>\n",
       "</tr>\n",
       "<tr>\n",
       "  <th>Date:</th>             <td>Tue, 19 Aug 2025</td> <th>  Prob (F-statistic):</th>  <td>  0.00</td> \n",
       "</tr>\n",
       "<tr>\n",
       "  <th>Time:</th>                 <td>23:17:24</td>     <th>  Log-Likelihood:    </th> <td> -4320.9</td>\n",
       "</tr>\n",
       "<tr>\n",
       "  <th>No. Observations:</th>      <td>  5201</td>      <th>  AIC:               </th> <td>   8696.</td>\n",
       "</tr>\n",
       "<tr>\n",
       "  <th>Df Residuals:</th>          <td>  5174</td>      <th>  BIC:               </th> <td>   8873.</td>\n",
       "</tr>\n",
       "<tr>\n",
       "  <th>Df Model:</th>              <td>    26</td>      <th>                     </th>     <td> </td>   \n",
       "</tr>\n",
       "<tr>\n",
       "  <th>Covariance Type:</th>      <td>nonrobust</td>    <th>                     </th>     <td> </td>   \n",
       "</tr>\n",
       "</table>\n",
       "<table class=\"simpletable\">\n",
       "<tr>\n",
       "           <td></td>             <th>coef</th>     <th>std err</th>      <th>t</th>      <th>P>|t|</th>  <th>[0.025</th>    <th>0.975]</th>  \n",
       "</tr>\n",
       "<tr>\n",
       "  <th>const</th>              <td>   10.5041</td> <td>    0.147</td> <td>   71.299</td> <td> 0.000</td> <td>   10.215</td> <td>   10.793</td>\n",
       "</tr>\n",
       "<tr>\n",
       "  <th>no_prepayment_flag</th> <td>   -0.1715</td> <td>    0.017</td> <td>  -10.272</td> <td> 0.000</td> <td>   -0.204</td> <td>   -0.139</td>\n",
       "</tr>\n",
       "<tr>\n",
       "  <th>distance</th>           <td>   -0.0132</td> <td>    0.021</td> <td>   -0.636</td> <td> 0.525</td> <td>   -0.054</td> <td>    0.027</td>\n",
       "</tr>\n",
       "<tr>\n",
       "  <th>review</th>             <td>   -0.0365</td> <td>    0.004</td> <td>   -8.471</td> <td> 0.000</td> <td>   -0.045</td> <td>   -0.028</td>\n",
       "</tr>\n",
       "<tr>\n",
       "  <th>pool</th>               <td>    0.4320</td> <td>    0.031</td> <td>   14.159</td> <td> 0.000</td> <td>    0.372</td> <td>    0.492</td>\n",
       "</tr>\n",
       "<tr>\n",
       "  <th>Hill</th>               <td>    0.3741</td> <td>    0.025</td> <td>   14.981</td> <td> 0.000</td> <td>    0.325</td> <td>    0.423</td>\n",
       "</tr>\n",
       "<tr>\n",
       "  <th>Metro</th>              <td>    0.2289</td> <td>    0.026</td> <td>    8.949</td> <td> 0.000</td> <td>    0.179</td> <td>    0.279</td>\n",
       "</tr>\n",
       "<tr>\n",
       "  <th>Staff</th>              <td>   -0.1945</td> <td>    0.021</td> <td>   -9.104</td> <td> 0.000</td> <td>   -0.236</td> <td>   -0.153</td>\n",
       "</tr>\n",
       "<tr>\n",
       "  <th>Cleanliness</th>        <td>    0.1420</td> <td>    0.016</td> <td>    8.715</td> <td> 0.000</td> <td>    0.110</td> <td>    0.174</td>\n",
       "</tr>\n",
       "<tr>\n",
       "  <th>Value_for_money</th>    <td>   -0.0625</td> <td>    0.030</td> <td>   -2.056</td> <td> 0.040</td> <td>   -0.122</td> <td>   -0.003</td>\n",
       "</tr>\n",
       "<tr>\n",
       "  <th>distance_category</th>  <td>   -0.1464</td> <td>    0.031</td> <td>   -4.667</td> <td> 0.000</td> <td>   -0.208</td> <td>   -0.085</td>\n",
       "</tr>\n",
       "<tr>\n",
       "  <th>single</th>             <td>    0.0357</td> <td>    0.009</td> <td>    3.844</td> <td> 0.000</td> <td>    0.018</td> <td>    0.054</td>\n",
       "</tr>\n",
       "<tr>\n",
       "  <th>double</th>             <td>    0.0191</td> <td>    0.004</td> <td>    4.376</td> <td> 0.000</td> <td>    0.011</td> <td>    0.028</td>\n",
       "</tr>\n",
       "<tr>\n",
       "  <th>bunk</th>               <td>   -0.0647</td> <td>    0.018</td> <td>   -3.639</td> <td> 0.000</td> <td>   -0.099</td> <td>   -0.030</td>\n",
       "</tr>\n",
       "<tr>\n",
       "  <th>sofa</th>               <td>    0.0254</td> <td>    0.015</td> <td>    1.748</td> <td> 0.081</td> <td>   -0.003</td> <td>    0.054</td>\n",
       "</tr>\n",
       "<tr>\n",
       "  <th>extra_large</th>        <td>    0.0542</td> <td>    0.009</td> <td>    5.788</td> <td> 0.000</td> <td>    0.036</td> <td>    0.073</td>\n",
       "</tr>\n",
       "<tr>\n",
       "  <th>room_service</th>       <td>   -0.0714</td> <td>    0.020</td> <td>   -3.596</td> <td> 0.000</td> <td>   -0.110</td> <td>   -0.032</td>\n",
       "</tr>\n",
       "<tr>\n",
       "  <th>bar</th>                <td>    0.2706</td> <td>    0.037</td> <td>    7.370</td> <td> 0.000</td> <td>    0.199</td> <td>    0.343</td>\n",
       "</tr>\n",
       "<tr>\n",
       "  <th>villa_room</th>         <td>    0.6004</td> <td>    0.035</td> <td>   17.356</td> <td> 0.000</td> <td>    0.533</td> <td>    0.668</td>\n",
       "</tr>\n",
       "<tr>\n",
       "  <th>deluxe_room</th>        <td>   -0.1299</td> <td>    0.018</td> <td>   -7.258</td> <td> 0.000</td> <td>   -0.165</td> <td>   -0.095</td>\n",
       "</tr>\n",
       "<tr>\n",
       "  <th>family_room</th>        <td>   -0.1220</td> <td>    0.034</td> <td>   -3.596</td> <td> 0.000</td> <td>   -0.189</td> <td>   -0.055</td>\n",
       "</tr>\n",
       "<tr>\n",
       "  <th>king_room</th>          <td>    0.0809</td> <td>    0.036</td> <td>    2.246</td> <td> 0.025</td> <td>    0.010</td> <td>    0.151</td>\n",
       "</tr>\n",
       "<tr>\n",
       "  <th>other_room</th>         <td>    0.1157</td> <td>    0.018</td> <td>    6.321</td> <td> 0.000</td> <td>    0.080</td> <td>    0.152</td>\n",
       "</tr>\n",
       "<tr>\n",
       "  <th>distance_2</th>         <td>   -0.0051</td> <td>    0.002</td> <td>   -2.830</td> <td> 0.005</td> <td>   -0.009</td> <td>   -0.002</td>\n",
       "</tr>\n",
       "<tr>\n",
       "  <th>distance_3</th>         <td>    0.0002</td> <td> 5.91e-05</td> <td>    4.020</td> <td> 0.000</td> <td>    0.000</td> <td>    0.000</td>\n",
       "</tr>\n",
       "<tr>\n",
       "  <th>Staff_2</th>            <td>    0.0202</td> <td>    0.002</td> <td>    8.788</td> <td> 0.000</td> <td>    0.016</td> <td>    0.025</td>\n",
       "</tr>\n",
       "<tr>\n",
       "  <th>value_for_money_2</th>  <td>   -0.0079</td> <td>    0.002</td> <td>   -3.698</td> <td> 0.000</td> <td>   -0.012</td> <td>   -0.004</td>\n",
       "</tr>\n",
       "</table>\n",
       "<table class=\"simpletable\">\n",
       "<tr>\n",
       "  <th>Omnibus:</th>       <td> 7.213</td> <th>  Durbin-Watson:     </th> <td>   2.012</td>\n",
       "</tr>\n",
       "<tr>\n",
       "  <th>Prob(Omnibus):</th> <td> 0.027</td> <th>  Jarque-Bera (JB):  </th> <td>   6.990</td>\n",
       "</tr>\n",
       "<tr>\n",
       "  <th>Skew:</th>          <td>-0.068</td> <th>  Prob(JB):          </th> <td>  0.0304</td>\n",
       "</tr>\n",
       "<tr>\n",
       "  <th>Kurtosis:</th>      <td> 2.882</td> <th>  Cond. No.          </th> <td>3.63e+04</td>\n",
       "</tr>\n",
       "</table><br/><br/>Notes:<br/>[1] Standard Errors assume that the covariance matrix of the errors is correctly specified.<br/>[2] The condition number is large, 3.63e+04. This might indicate that there are<br/>strong multicollinearity or other numerical problems."
      ],
      "text/latex": [
       "\\begin{center}\n",
       "\\begin{tabular}{lclc}\n",
       "\\toprule\n",
       "\\textbf{Dep. Variable:}       &      price       & \\textbf{  R-squared:         } &     0.279   \\\\\n",
       "\\textbf{Model:}               &       OLS        & \\textbf{  Adj. R-squared:    } &     0.276   \\\\\n",
       "\\textbf{Method:}              &  Least Squares   & \\textbf{  F-statistic:       } &     77.12   \\\\\n",
       "\\textbf{Date:}                & Tue, 19 Aug 2025 & \\textbf{  Prob (F-statistic):} &     0.00    \\\\\n",
       "\\textbf{Time:}                &     23:17:24     & \\textbf{  Log-Likelihood:    } &   -4320.9   \\\\\n",
       "\\textbf{No. Observations:}    &        5201      & \\textbf{  AIC:               } &     8696.   \\\\\n",
       "\\textbf{Df Residuals:}        &        5174      & \\textbf{  BIC:               } &     8873.   \\\\\n",
       "\\textbf{Df Model:}            &          26      & \\textbf{                     } &             \\\\\n",
       "\\textbf{Covariance Type:}     &    nonrobust     & \\textbf{                     } &             \\\\\n",
       "\\bottomrule\n",
       "\\end{tabular}\n",
       "\\begin{tabular}{lcccccc}\n",
       "                              & \\textbf{coef} & \\textbf{std err} & \\textbf{t} & \\textbf{P$> |$t$|$} & \\textbf{[0.025} & \\textbf{0.975]}  \\\\\n",
       "\\midrule\n",
       "\\textbf{const}                &      10.5041  &        0.147     &    71.299  &         0.000        &       10.215    &       10.793     \\\\\n",
       "\\textbf{no\\_prepayment\\_flag} &      -0.1715  &        0.017     &   -10.272  &         0.000        &       -0.204    &       -0.139     \\\\\n",
       "\\textbf{distance}             &      -0.0132  &        0.021     &    -0.636  &         0.525        &       -0.054    &        0.027     \\\\\n",
       "\\textbf{review}               &      -0.0365  &        0.004     &    -8.471  &         0.000        &       -0.045    &       -0.028     \\\\\n",
       "\\textbf{pool}                 &       0.4320  &        0.031     &    14.159  &         0.000        &        0.372    &        0.492     \\\\\n",
       "\\textbf{Hill}                 &       0.3741  &        0.025     &    14.981  &         0.000        &        0.325    &        0.423     \\\\\n",
       "\\textbf{Metro}                &       0.2289  &        0.026     &     8.949  &         0.000        &        0.179    &        0.279     \\\\\n",
       "\\textbf{Staff}                &      -0.1945  &        0.021     &    -9.104  &         0.000        &       -0.236    &       -0.153     \\\\\n",
       "\\textbf{Cleanliness}          &       0.1420  &        0.016     &     8.715  &         0.000        &        0.110    &        0.174     \\\\\n",
       "\\textbf{Value\\_for\\_money}    &      -0.0625  &        0.030     &    -2.056  &         0.040        &       -0.122    &       -0.003     \\\\\n",
       "\\textbf{distance\\_category}   &      -0.1464  &        0.031     &    -4.667  &         0.000        &       -0.208    &       -0.085     \\\\\n",
       "\\textbf{single}               &       0.0357  &        0.009     &     3.844  &         0.000        &        0.018    &        0.054     \\\\\n",
       "\\textbf{double}               &       0.0191  &        0.004     &     4.376  &         0.000        &        0.011    &        0.028     \\\\\n",
       "\\textbf{bunk}                 &      -0.0647  &        0.018     &    -3.639  &         0.000        &       -0.099    &       -0.030     \\\\\n",
       "\\textbf{sofa}                 &       0.0254  &        0.015     &     1.748  &         0.081        &       -0.003    &        0.054     \\\\\n",
       "\\textbf{extra\\_large}         &       0.0542  &        0.009     &     5.788  &         0.000        &        0.036    &        0.073     \\\\\n",
       "\\textbf{room\\_service}        &      -0.0714  &        0.020     &    -3.596  &         0.000        &       -0.110    &       -0.032     \\\\\n",
       "\\textbf{bar}                  &       0.2706  &        0.037     &     7.370  &         0.000        &        0.199    &        0.343     \\\\\n",
       "\\textbf{villa\\_room}          &       0.6004  &        0.035     &    17.356  &         0.000        &        0.533    &        0.668     \\\\\n",
       "\\textbf{deluxe\\_room}         &      -0.1299  &        0.018     &    -7.258  &         0.000        &       -0.165    &       -0.095     \\\\\n",
       "\\textbf{family\\_room}         &      -0.1220  &        0.034     &    -3.596  &         0.000        &       -0.189    &       -0.055     \\\\\n",
       "\\textbf{king\\_room}           &       0.0809  &        0.036     &     2.246  &         0.025        &        0.010    &        0.151     \\\\\n",
       "\\textbf{other\\_room}          &       0.1157  &        0.018     &     6.321  &         0.000        &        0.080    &        0.152     \\\\\n",
       "\\textbf{distance\\_2}          &      -0.0051  &        0.002     &    -2.830  &         0.005        &       -0.009    &       -0.002     \\\\\n",
       "\\textbf{distance\\_3}          &       0.0002  &     5.91e-05     &     4.020  &         0.000        &        0.000    &        0.000     \\\\\n",
       "\\textbf{Staff\\_2}             &       0.0202  &        0.002     &     8.788  &         0.000        &        0.016    &        0.025     \\\\\n",
       "\\textbf{value\\_for\\_money\\_2} &      -0.0079  &        0.002     &    -3.698  &         0.000        &       -0.012    &       -0.004     \\\\\n",
       "\\bottomrule\n",
       "\\end{tabular}\n",
       "\\begin{tabular}{lclc}\n",
       "\\textbf{Omnibus:}       &  7.213 & \\textbf{  Durbin-Watson:     } &    2.012  \\\\\n",
       "\\textbf{Prob(Omnibus):} &  0.027 & \\textbf{  Jarque-Bera (JB):  } &    6.990  \\\\\n",
       "\\textbf{Skew:}          & -0.068 & \\textbf{  Prob(JB):          } &   0.0304  \\\\\n",
       "\\textbf{Kurtosis:}      &  2.882 & \\textbf{  Cond. No.          } & 3.63e+04  \\\\\n",
       "\\bottomrule\n",
       "\\end{tabular}\n",
       "%\\caption{OLS Regression Results}\n",
       "\\end{center}\n",
       "\n",
       "Notes: \\newline\n",
       " [1] Standard Errors assume that the covariance matrix of the errors is correctly specified. \\newline\n",
       " [2] The condition number is large, 3.63e+04. This might indicate that there are \\newline\n",
       " strong multicollinearity or other numerical problems."
      ],
      "text/plain": [
       "<class 'statsmodels.iolib.summary.Summary'>\n",
       "\"\"\"\n",
       "                            OLS Regression Results                            \n",
       "==============================================================================\n",
       "Dep. Variable:                  price   R-squared:                       0.279\n",
       "Model:                            OLS   Adj. R-squared:                  0.276\n",
       "Method:                 Least Squares   F-statistic:                     77.12\n",
       "Date:                Tue, 19 Aug 2025   Prob (F-statistic):               0.00\n",
       "Time:                        23:17:24   Log-Likelihood:                -4320.9\n",
       "No. Observations:                5201   AIC:                             8696.\n",
       "Df Residuals:                    5174   BIC:                             8873.\n",
       "Df Model:                          26                                         \n",
       "Covariance Type:            nonrobust                                         \n",
       "======================================================================================\n",
       "                         coef    std err          t      P>|t|      [0.025      0.975]\n",
       "--------------------------------------------------------------------------------------\n",
       "const                 10.5041      0.147     71.299      0.000      10.215      10.793\n",
       "no_prepayment_flag    -0.1715      0.017    -10.272      0.000      -0.204      -0.139\n",
       "distance              -0.0132      0.021     -0.636      0.525      -0.054       0.027\n",
       "review                -0.0365      0.004     -8.471      0.000      -0.045      -0.028\n",
       "pool                   0.4320      0.031     14.159      0.000       0.372       0.492\n",
       "Hill                   0.3741      0.025     14.981      0.000       0.325       0.423\n",
       "Metro                  0.2289      0.026      8.949      0.000       0.179       0.279\n",
       "Staff                 -0.1945      0.021     -9.104      0.000      -0.236      -0.153\n",
       "Cleanliness            0.1420      0.016      8.715      0.000       0.110       0.174\n",
       "Value_for_money       -0.0625      0.030     -2.056      0.040      -0.122      -0.003\n",
       "distance_category     -0.1464      0.031     -4.667      0.000      -0.208      -0.085\n",
       "single                 0.0357      0.009      3.844      0.000       0.018       0.054\n",
       "double                 0.0191      0.004      4.376      0.000       0.011       0.028\n",
       "bunk                  -0.0647      0.018     -3.639      0.000      -0.099      -0.030\n",
       "sofa                   0.0254      0.015      1.748      0.081      -0.003       0.054\n",
       "extra_large            0.0542      0.009      5.788      0.000       0.036       0.073\n",
       "room_service          -0.0714      0.020     -3.596      0.000      -0.110      -0.032\n",
       "bar                    0.2706      0.037      7.370      0.000       0.199       0.343\n",
       "villa_room             0.6004      0.035     17.356      0.000       0.533       0.668\n",
       "deluxe_room           -0.1299      0.018     -7.258      0.000      -0.165      -0.095\n",
       "family_room           -0.1220      0.034     -3.596      0.000      -0.189      -0.055\n",
       "king_room              0.0809      0.036      2.246      0.025       0.010       0.151\n",
       "other_room             0.1157      0.018      6.321      0.000       0.080       0.152\n",
       "distance_2            -0.0051      0.002     -2.830      0.005      -0.009      -0.002\n",
       "distance_3             0.0002   5.91e-05      4.020      0.000       0.000       0.000\n",
       "Staff_2                0.0202      0.002      8.788      0.000       0.016       0.025\n",
       "value_for_money_2     -0.0079      0.002     -3.698      0.000      -0.012      -0.004\n",
       "==============================================================================\n",
       "Omnibus:                        7.213   Durbin-Watson:                   2.012\n",
       "Prob(Omnibus):                  0.027   Jarque-Bera (JB):                6.990\n",
       "Skew:                          -0.068   Prob(JB):                       0.0304\n",
       "Kurtosis:                       2.882   Cond. No.                     3.63e+04\n",
       "==============================================================================\n",
       "\n",
       "Notes:\n",
       "[1] Standard Errors assume that the covariance matrix of the errors is correctly specified.\n",
       "[2] The condition number is large, 3.63e+04. This might indicate that there are\n",
       "strong multicollinearity or other numerical problems.\n",
       "\"\"\""
      ]
     },
     "execution_count": 79,
     "metadata": {},
     "output_type": "execute_result"
    }
   ],
   "source": [
    "model = sm.OLS(y, X).fit()\n",
    "\n",
    "model.summary()"
   ]
  },
  {
   "cell_type": "code",
   "execution_count": 80,
   "id": "a99b170f",
   "metadata": {
    "execution": {
     "iopub.execute_input": "2025-07-29T17:46:55.234315Z",
     "iopub.status.busy": "2025-07-29T17:46:55.233990Z",
     "iopub.status.idle": "2025-07-29T17:46:55.287135Z",
     "shell.execute_reply": "2025-07-29T17:46:55.286260Z"
    },
    "papermill": {
     "duration": 0.080535,
     "end_time": "2025-07-29T17:46:55.288739",
     "exception": false,
     "start_time": "2025-07-29T17:46:55.208204",
     "status": "completed"
    },
    "tags": []
   },
   "outputs": [
    {
     "name": "stdout",
     "output_type": "stream",
     "text": [
      "All Training R2s: [0.277, 0.283, 0.282, 0.281, 0.28]\n",
      "Training R2s: 0.281 +- 0.002\n",
      "All Validation R2s: [0.282, 0.253, 0.258, 0.267, 0.272]\n",
      "Cross Val R2s: 0.266 +- 0.01\n"
     ]
    }
   ],
   "source": [
    "from sklearn.model_selection import KFold\n",
    "from sklearn.metrics import r2_score as r2\n",
    "\n",
    "def cross_val(X, y, n_splits):\n",
    "    kf = KFold(n_splits=n_splits, shuffle=True, random_state=2023)\n",
    "    # Create a list to store validation scores for each fold\n",
    "\n",
    "    cv_lm_tr_r2s = []\n",
    "    cv_lm_val_r2s = []\n",
    "    \n",
    "    for train_ind, val_ind in kf.split(X, y):\n",
    "        # Subset data based on CV folds\n",
    "        X_train, y_train = X.iloc[train_ind], y.iloc[train_ind]\n",
    "        X_val, y_val = X.iloc[val_ind], y.iloc[val_ind]\n",
    "        # Fit the Model on fold's training data\n",
    "        model = sm.OLS(y_train, X_train).fit()\n",
    "        # Append Validation score to list \n",
    "        cv_lm_tr_r2s.append(r2(y_train, model.predict(X_train)))\n",
    "        cv_lm_val_r2s.append(r2(y_val, model.predict(X_val),))\n",
    "        \n",
    "        \n",
    "    print(f\"All Training R2s: {[round(x, 3) for x in cv_lm_tr_r2s]}\")\n",
    "    print(f\"Training R2s: {round(np.mean(cv_lm_tr_r2s), 3)} +- {round(np.std(cv_lm_tr_r2s), 3)}\")\n",
    "            \n",
    "    print(f\"All Validation R2s: {[round(x, 3) for x in cv_lm_val_r2s]}\")\n",
    "    print(f\"Cross Val R2s: {round(np.mean(cv_lm_val_r2s), 3)} +- {round(np.std(cv_lm_val_r2s), 3)}\")\n",
    "\n",
    "    return model\n",
    "    \n",
    "model = cross_val(X, y, 5)"
   ]
  },
  {
   "cell_type": "markdown",
   "id": "b96d64df",
   "metadata": {
    "papermill": {
     "duration": 0.024454,
     "end_time": "2025-07-29T17:46:55.337800",
     "exception": false,
     "start_time": "2025-07-29T17:46:55.313346",
     "status": "completed"
    },
    "tags": []
   },
   "source": [
    "## Model Assumptions"
   ]
  },
  {
   "cell_type": "code",
   "execution_count": 81,
   "id": "ba337d68",
   "metadata": {
    "execution": {
     "iopub.execute_input": "2025-07-29T17:46:55.388447Z",
     "iopub.status.busy": "2025-07-29T17:46:55.388107Z",
     "iopub.status.idle": "2025-07-29T17:46:55.393938Z",
     "shell.execute_reply": "2025-07-29T17:46:55.393208Z"
    },
    "papermill": {
     "duration": 0.032771,
     "end_time": "2025-07-29T17:46:55.395255",
     "exception": false,
     "start_time": "2025-07-29T17:46:55.362484",
     "status": "completed"
    },
    "tags": []
   },
   "outputs": [],
   "source": [
    "def residual_analysis_plots(model):\n",
    "    \n",
    "    import scipy.stats as stats\n",
    "    import matplotlib.pyplot as plt\n",
    "    \n",
    "    predictions = model.predict()\n",
    "    residuals = model.resid\n",
    "    \n",
    "    fig, ax = plt.subplots(1, 2, sharey=\"all\", figsize=(10, 6))\n",
    "    \n",
    "    sns.scatterplot(x=predictions, y=residuals, ax=ax[0])\n",
    "    ax[0].set_title(\"Residual Plot\")\n",
    "    ax[0].set_xlabel(\"Prediction\")\n",
    "    ax[0].set_ylabel(\"Residuals\")\n",
    "    \n",
    "    stats.probplot(residuals, dist=\"norm\", plot=ax[1])\n",
    "    ax[1].set_title(\"Normal Q-Q Plot\") "
   ]
  },
  {
   "cell_type": "code",
   "execution_count": 82,
   "id": "6a37868d",
   "metadata": {
    "execution": {
     "iopub.execute_input": "2025-07-29T17:46:55.446576Z",
     "iopub.status.busy": "2025-07-29T17:46:55.446246Z",
     "iopub.status.idle": "2025-07-29T17:46:55.823492Z",
     "shell.execute_reply": "2025-07-29T17:46:55.822593Z"
    },
    "papermill": {
     "duration": 0.405465,
     "end_time": "2025-07-29T17:46:55.825808",
     "exception": false,
     "start_time": "2025-07-29T17:46:55.420343",
     "status": "completed"
    },
    "tags": []
   },
   "outputs": [
    {
     "data": {
      "image/png": "[encoded data removed]",
      "text/plain": [
       "<Figure size 1000x600 with 2 Axes>"
      ]
     },
     "metadata": {},
     "output_type": "display_data"
    }
   ],
   "source": [
    "residual_analysis_plots(model)"
   ]
  },
  {
   "cell_type": "code",
   "execution_count": 83,
   "id": "b09f7456",
   "metadata": {
    "execution": {
     "iopub.execute_input": "2025-07-29T17:46:55.881845Z",
     "iopub.status.busy": "2025-07-29T17:46:55.881119Z",
     "iopub.status.idle": "2025-07-29T17:46:56.020749Z",
     "shell.execute_reply": "2025-07-29T17:46:56.019933Z"
    },
    "papermill": {
     "duration": 0.16854,
     "end_time": "2025-07-29T17:46:56.022238",
     "exception": false,
     "start_time": "2025-07-29T17:46:55.853698",
     "status": "completed"
    },
    "tags": []
   },
   "outputs": [
    {
     "data": {
      "text/plain": [
       "const                 364.122147\n",
       "no_prepayment_flag      1.117106\n",
       "distance              179.819355\n",
       "review                  2.130871\n",
       "pool                    1.383554\n",
       "Hill                    2.041030\n",
       "Metro                   2.742959\n",
       "Staff                 130.717943\n",
       "Cleanliness            80.303010\n",
       "Value_for_money       265.534898\n",
       "distance_category      19.614979\n",
       "single                  1.032033\n",
       "double                  1.074555\n",
       "bunk                    1.008494\n",
       "sofa                    1.175035\n",
       "extra_large             1.081104\n",
       "room_service            1.544143\n",
       "bar                     1.316896\n",
       "villa_room              1.256721\n",
       "deluxe_room             1.110237\n",
       "family_room             1.088990\n",
       "king_room               1.089043\n",
       "other_room              1.221663\n",
       "distance_2            454.269252\n",
       "distance_3            152.835457\n",
       "Staff_2               121.132682\n",
       "value_for_money_2     103.538121\n",
       "dtype: float64"
      ]
     },
     "execution_count": 83,
     "metadata": {},
     "output_type": "execute_result"
    }
   ],
   "source": [
    "\n",
    "from statsmodels.stats.outliers_influence import variance_inflation_factor as vif\n",
    "\n",
    "pd.Series(\n",
    "    [vif(X.values, i) for i in range(X.shape[1])],\n",
    "    index=X.columns\n",
    ")"
   ]
  },
  {
   "cell_type": "code",
   "execution_count": 84,
   "id": "85c0bd6f",
   "metadata": {
    "execution": {
     "iopub.execute_input": "2025-07-29T17:46:56.076894Z",
     "iopub.status.busy": "2025-07-29T17:46:56.076290Z",
     "iopub.status.idle": "2025-07-29T17:47:16.737044Z",
     "shell.execute_reply": "2025-07-29T17:47:16.736185Z"
    },
    "papermill": {
     "duration": 20.689908,
     "end_time": "2025-07-29T17:47:16.738432",
     "exception": false,
     "start_time": "2025-07-29T17:46:56.048524",
     "status": "completed"
    },
    "tags": []
   },
   "outputs": [
    {
     "data": {
      "text/plain": [
       "5555    0.055358\n",
       "3714    0.049743\n",
       "5441    0.046660\n",
       "976     0.029823\n",
       "5583    0.021947\n",
       "Name: cooks_d, dtype: float64"
      ]
     },
     "execution_count": 84,
     "metadata": {},
     "output_type": "execute_result"
    }
   ],
   "source": [
    "influence = model.get_influence()\n",
    "inf_summary_df = influence.summary_frame()\n",
    "inf_summary_df[\"cooks_d\"].sort_values(ascending=False).head()"
   ]
  },
  {
   "cell_type": "code",
   "execution_count": 85,
   "id": "87507661",
   "metadata": {
    "execution": {
     "iopub.execute_input": "2025-07-29T17:47:16.792580Z",
     "iopub.status.busy": "2025-07-29T17:47:16.791929Z",
     "iopub.status.idle": "2025-07-29T17:47:16.798076Z",
     "shell.execute_reply": "2025-07-29T17:47:16.797293Z"
    },
    "papermill": {
     "duration": 0.034818,
     "end_time": "2025-07-29T17:47:16.799432",
     "exception": false,
     "start_time": "2025-07-29T17:47:16.764614",
     "status": "completed"
    },
    "tags": []
   },
   "outputs": [
    {
     "data": {
      "text/plain": [
       "np.float64(2.064980539711366)"
      ]
     },
     "execution_count": 85,
     "metadata": {},
     "output_type": "execute_result"
    }
   ],
   "source": [
    "from statsmodels.stats.stattools import durbin_watson\n",
    "\n",
    "durbin_watson(model.resid)"
   ]
  },
  {
   "cell_type": "markdown",
   "id": "79818ca2",
   "metadata": {
    "papermill": {
     "duration": 0.025707,
     "end_time": "2025-07-29T17:47:16.851585",
     "exception": false,
     "start_time": "2025-07-29T17:47:16.825878",
     "status": "completed"
    },
    "tags": []
   },
   "source": [
    "# Takeaway"
   ]
  },
  {
   "cell_type": "markdown",
   "id": "2a7d24a9",
   "metadata": {
    "papermill": {
     "duration": 0.025902,
     "end_time": "2025-07-29T17:47:16.903387",
     "exception": false,
     "start_time": "2025-07-29T17:47:16.877485",
     "status": "completed"
    },
    "tags": []
   },
   "source": [
    "1. Linearity of relationship -- Prediction-residual plot seems normally distributed around 0\n",
    "2. Normality of residual -- Q-Q plot seems good\n",
    "3. No Multicolinearity -- VIF > 10 only in case of feature scalling or combining\n",
    "4. Independence of Residual -- Durbin Watson is near 2\n",
    "5. Outliers -- all cooks d < 0.5"
   ]
  },
  {
   "cell_type": "code",
   "execution_count": 86,
   "id": "ff7b84f9",
   "metadata": {
    "execution": {
     "iopub.execute_input": "2025-07-29T17:47:16.958567Z",
     "iopub.status.busy": "2025-07-29T17:47:16.958245Z",
     "iopub.status.idle": "2025-07-29T17:47:16.977190Z",
     "shell.execute_reply": "2025-07-29T17:47:16.976451Z"
    },
    "papermill": {
     "duration": 0.04911,
     "end_time": "2025-07-29T17:47:16.978752",
     "exception": false,
     "start_time": "2025-07-29T17:47:16.929642",
     "status": "completed"
    },
    "tags": []
   },
   "outputs": [],
   "source": [
    "from sklearn.preprocessing import StandardScaler\n",
    "\n",
    "std = StandardScaler()\n",
    "X_m = std.fit_transform(X.values)\n",
    "X_te = std.transform(X_test.values)"
   ]
  },
  {
   "cell_type": "code",
   "execution_count": 87,
   "id": "4abdffdb",
   "metadata": {
    "execution": {
     "iopub.execute_input": "2025-07-29T17:47:17.034002Z",
     "iopub.status.busy": "2025-07-29T17:47:17.033676Z",
     "iopub.status.idle": "2025-07-29T17:47:19.973552Z",
     "shell.execute_reply": "2025-07-29T17:47:19.972424Z"
    },
    "papermill": {
     "duration": 2.96915,
     "end_time": "2025-07-29T17:47:19.975047",
     "exception": false,
     "start_time": "2025-07-29T17:47:17.005897",
     "status": "completed"
    },
    "tags": []
   },
   "outputs": [
    {
     "name": "stdout",
     "output_type": "stream",
     "text": [
      "0.23772734059839473\n"
     ]
    }
   ],
   "source": [
    "from sklearn.linear_model import RidgeCV\n",
    "from sklearn.metrics import mean_absolute_error as mae\n",
    "\n",
    "n_alphas = 200\n",
    "alphas = 10 ** np.linspace(-3, 3, n_alphas)\n",
    "\n",
    "ridge_model = RidgeCV(alphas=alphas, cv=5)\n",
    "\n",
    "ridge_model.fit(X_m, y)\n",
    "print(ridge_model.score(X_te, y_test))"
   ]
  },
  {
   "cell_type": "code",
   "execution_count": null,
   "id": "22a9e981",
   "metadata": {
    "papermill": {
     "duration": 0.026261,
     "end_time": "2025-07-29T17:47:20.028064",
     "exception": false,
     "start_time": "2025-07-29T17:47:20.001803",
     "status": "completed"
    },
    "tags": []
   },
   "outputs": [],
   "source": []
  }
 ],
 "metadata": {
  "kaggle": {
   "accelerator": "none",
   "dataSources": [
    {
     "datasetId": 7966786,
     "sourceId": 12611713,
     "sourceType": "datasetVersion"
    }
   ],
   "dockerImageVersionId": 31089,
   "isGpuEnabled": false,
   "isInternetEnabled": true,
   "language": "python",
   "sourceType": "notebook"
  },
  "kernelspec": {
   "display_name": "data_science",
   "language": "python",
   "name": "python3"
  },
  "language_info": {
   "codemirror_mode": {
    "name": "ipython",
    "version": 3
   },
   "file_extension": ".py",
   "mimetype": "text/x-python",
   "name": "python",
   "nbconvert_exporter": "python",
   "pygments_lexer": "ipython3",
   "version": "3.10.16"
  },
  "papermill": {
   "default_parameters": {},
   "duration": 46.90339,
   "end_time": "2025-07-29T17:47:20.874354",
   "environment_variables": {},
   "exception": null,
   "input_path": "__notebook__.ipynb",
   "output_path": "__notebook__.ipynb",
   "parameters": {},
   "start_time": "2025-07-29T17:46:33.970964",
   "version": "2.6.0"
  }
 },
 "nbformat": 4,
 "nbformat_minor": 5
}
